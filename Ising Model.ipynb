{
 "cells": [
  {
   "cell_type": "code",
   "execution_count": 29,
   "metadata": {
    "collapsed": false
   },
   "outputs": [],
   "source": [
    "import numpy as np  # package for arrays\n",
    "import matplotlib.pyplot as plt  # package for plotting\n",
    "import time  # for timing\n",
    "# display plots inside of notebook\n",
    "%matplotlib inline"
   ]
  },
  {
   "cell_type": "markdown",
   "metadata": {},
   "source": [
    "We have an $M$ by $N$ lattice of spins. Let $\\sigma_i \\in \\{-1, 1\\}$ be the spin of lattice site $i$. The energy of the system is:\n",
    "\n",
    "$\\sum_{(i,j)} ' -J \\sigma_i \\sigma_j - \\sum_j h \\sigma _j$,\n",
    "    \n",
    "where the prime denotes a sum over nearest neighbors on the $M$ by $N$ lattice.\n",
    "\n",
    "We implement periodic boundary conditions to mimic a system of infinite extent.\n",
    "\n",
    "The following class, `IsingModel`, is a data structure to store attributes of an Ising Model and provide abstractions to manipulate the lattice for simulations.\n",
    "\n",
    "For example, to construct an instance of an `IsingModel` class as a 20 by 10 lattice with $J=1.0$ and $h=0$:\n",
    "\n",
    "    model = IsingModel(20, 10, 1.0, 0.0)\n",
    "    model.print_attributes()\n",
    "\n",
    "The lattice state is stored in an $M$ by $N$ numpy array, `lattice_state`; each entry is either -1 and 1. Each site of the lattice is initialized as -1 or 1 with equal probability in the initial construction of an instance. Retreive the lattice state by:\n",
    "\n",
    "    model.lattice_state\n",
    "    \n",
    "Plot the lattice state by:\n",
    "\n",
    "    model.plot_lattice()\n",
    "    \n",
    "We can conveniently manipulate the lattice for simulations. For example, to flip the spin in row 2 and column 3 and calculate the energy of this spin:\n",
    "\n",
    "    model.flip_spin(2, 3)\n",
    "    model.calculate_energy_of_spin(2, 3)\n",
    "    "
   ]
  },
  {
   "cell_type": "code",
   "execution_count": 30,
   "metadata": {
    "collapsed": false
   },
   "outputs": [],
   "source": [
    "class IsingModel:\n",
    "    \"\"\"\n",
    "    Store attributes of an Ising lattice model\n",
    "    Provide abstractions to conveniently manipulate lattice for simulations\n",
    "    \"\"\"\n",
    "    def __init__(self, M, N, J, h):\n",
    "        \"\"\"\n",
    "        Initialization.\n",
    "        \n",
    "        parameters:\n",
    "            lattice is M by N sites\n",
    "            J: interaction between neighbors (units: kT)\n",
    "            h: background field (units: kT)\n",
    "        \"\"\"\n",
    "        # store parameters for convenience:\n",
    "        #   energetic parameters\n",
    "        self.J = J\n",
    "        self.h = h\n",
    "        \n",
    "        #   size of lattice\n",
    "        self.M = M\n",
    "        self.N = N\n",
    "        \n",
    "        # store lattice state with M by N array of -1 or 1\n",
    "        # initialize each site as -1 or 1 with equal probability\n",
    "        lattice_state = np.random.randint(-1, high=1, size=(M, N))\n",
    "        lattice_state[lattice_state == 0] = 1\n",
    "        self.lattice_state = lattice_state\n",
    "    \n",
    "    def print_params(self):\n",
    "        \"\"\"\n",
    "        Print lattice attributes\n",
    "        \"\"\"\n",
    "        print(\"\\t%d by %d lattice\" % (self.M, self.N))\n",
    "        print(\"\\tJ = %f   (+ve means preferable )\" % self.J)\n",
    "        print(\"\\th = %f\" % self.h)\n",
    "    \n",
    "    def critical_kT(self):\n",
    "        \"\"\"\n",
    "        Calculate critical temperature of this lattice model. Depends on J.\n",
    "        \"\"\"\n",
    "        return 2.0 * self.J / (np.log(1.0 + np.sqrt(2.0)))\n",
    "    \n",
    "    def flip_spin(self, i, j):\n",
    "        \"\"\"\n",
    "        Flip spin (i, j)\n",
    "        i.e. -1 ---> 1\n",
    "              1 ---> -1\n",
    "        \"\"\"\n",
    "        self.lattice_state[i, j] = - self.lattice_state[i, j]\n",
    "    \n",
    "    def calculate_energy_of_spin(self, i, j):\n",
    "        \"\"\"\n",
    "        Calculate energy of spin (i, j)\n",
    "        \n",
    "        Periodic boundary conditions implemented\n",
    "        \"\"\"\n",
    "        spin_here = self.lattice_state[i, j]  # value of spin here\n",
    "        \n",
    "        # value of spin above, below, left, and right of spin (i, j)\n",
    "        # for each, if on boundary, we wrap around to the other side\n",
    "        # of the lattice for periodic boundary conditions\n",
    "        if j == 0:\n",
    "            spin_above = self.lattice_state[i, self.N - 1]\n",
    "        else:\n",
    "            spin_above = self.lattice_state[i, j - 1]\n",
    "        \n",
    "        if j == self.N - 1:\n",
    "            spin_below = self.lattice_state[i, 0]\n",
    "        else:\n",
    "            spin_below = self.lattice_state[i, j + 1]\n",
    "            \n",
    "        if i == self.M - 1:\n",
    "            spin_right = self.lattice_state[0, j]\n",
    "        else:\n",
    "            spin_right = self.lattice_state[i + 1, j]\n",
    "        \n",
    "        if i == 0:\n",
    "            spin_left = self.lattice_state[self.M - 1, j]\n",
    "        else:\n",
    "            spin_left = self.lattice_state[i - 1, j]\n",
    "        \n",
    "        return - self.h * spin_here - self.J * spin_here *\\\n",
    "            (spin_above + spin_below + spin_left + spin_right)\n",
    "        \n",
    "    def plot_lattice(self):\n",
    "        \"\"\"\n",
    "        Plot lattice configuration\n",
    "        \"\"\"\n",
    "        plt.figure()\n",
    "        \n",
    "        imgplot = plt.imshow(self.lattice_state)\n",
    "        imgplot.set_interpolation('none')\n",
    "        \n",
    "        plt.xticks(range(self.N))\n",
    "        plt.yticks(range(self.M))\n",
    "        \n",
    "        plt.show()\n",
    "    \n",
    "    def calculate_lattice_energy_per_spin(self):\n",
    "        \"\"\"\n",
    "        Calculate energy of lattice normalized by the number of spins\n",
    "        \"\"\"\n",
    "        E = 0.0\n",
    "        for i in range(self.M):\n",
    "            for j in range(self.N):\n",
    "                E += self.calculate_energy_of_spin(i, j)\n",
    "        # factor of two for overcounting neighboring interactions.\n",
    "        # but then need to add back -1/2 h \\sum s_i \n",
    "        return E / 2.0 / (self.M * self.N) -\\\n",
    "            self.h * np.sum(self.lattice_state) / 2.0 / (self.M * self.N)\n",
    "       \n",
    "    def calculate_net_magnetization_per_spin(self):\n",
    "        \"\"\"\n",
    "        Calculate net magentization normalized by the number of spins\n",
    "        \"\"\"\n",
    "        return 1.0 * np.sum(self.lattice_state) / (self.M * self.N)"
   ]
  },
  {
   "cell_type": "markdown",
   "metadata": {},
   "source": [
    "## Example use"
   ]
  },
  {
   "cell_type": "code",
   "execution_count": 31,
   "metadata": {
    "collapsed": false
   },
   "outputs": [
    {
     "data": {
      "image/png": "[encoded data removed]",
      "text/plain": [
       "<matplotlib.figure.Figure at 0x7f9b5e71ca50>"
      ]
     },
     "metadata": {},
     "output_type": "display_data"
    }
   ],
   "source": [
    "model = IsingModel(3, 5, 1.0, 0.0)\n",
    "model.plot_lattice()"
   ]
  },
  {
   "cell_type": "code",
   "execution_count": 32,
   "metadata": {
    "collapsed": false
   },
   "outputs": [
    {
     "data": {
      "text/plain": [
       "2.0"
      ]
     },
     "execution_count": 32,
     "metadata": {},
     "output_type": "execute_result"
    }
   ],
   "source": [
    "model.calculate_energy_of_spin(2, 0)"
   ]
  },
  {
   "cell_type": "code",
   "execution_count": 33,
   "metadata": {
    "collapsed": false
   },
   "outputs": [
    {
     "data": {
      "image/png": "[encoded data removed]",
      "text/plain": [
       "<matplotlib.figure.Figure at 0x7f9b5e8458d0>"
      ]
     },
     "metadata": {},
     "output_type": "display_data"
    }
   ],
   "source": [
    "model.flip_spin(0, 0)\n",
    "model.plot_lattice()"
   ]
  },
  {
   "cell_type": "markdown",
   "metadata": {},
   "source": [
    "# Autocorrelation functions to determine how many sweeps needed before samples become statistically independent"
   ]
  },
  {
   "cell_type": "code",
   "execution_count": 34,
   "metadata": {
    "collapsed": true
   },
   "outputs": [],
   "source": [
    "def autocorrelation_k_steps(data, k):\n",
    "    \"\"\"\n",
    "    Calculate autocorrelation of data after k steps\n",
    "    https://en.wikipedia.org/wiki/Autocorrelation#Estimation\n",
    "    \"\"\"\n",
    "    mu = np.mean(data)  # mean\n",
    "    n = np.size(data)  # number of data points\n",
    "    variance = np.var(data)  # variance\n",
    "    \n",
    "    corr = 0.0  # autocorrelation\n",
    "    for t in range(n - k):\n",
    "        corr += (data[t] - mu) * (data[t + k] - mu)\n",
    "    return corr / (variance * (n - k))\n",
    "\n",
    "def plot_autocorrelation(data, kmax):\n",
    "    \"\"\"\n",
    "    Plot autocorrelation function of data up to kmax steps\n",
    "    \"\"\"\n",
    "    corr = np.zeros((kmax, ))\n",
    "    for k in range(kmax):\n",
    "        corr[k] = autocorrelation_k_steps(data, k)\n",
    "        \n",
    "    fig = plt.figure()\n",
    "    \n",
    "    plt.xlabel(\"Monte Carlo cycle\")\n",
    "    plt.ylabel(\"Autocorrelation\")\n",
    "    \n",
    "    plt.ylim([0, 1])\n",
    "    \n",
    "    plt.plot(np.arange(kmax), corr, marker='s')\n",
    "    \n",
    "    plt.show()"
   ]
  },
  {
   "cell_type": "markdown",
   "metadata": {},
   "source": [
    "# Function to sweep the lattice in a Monte Carlo simulation"
   ]
  },
  {
   "cell_type": "markdown",
   "metadata": {},
   "source": [
    "Our function `sweep_lattice` will perform $NM$ Monte Carlo spin flip trials. We call it `sweep_lattice` because, on average, each spin will be selected for a Monte Carlo trial once during a 'sweep'."
   ]
  },
  {
   "cell_type": "code",
   "execution_count": 35,
   "metadata": {
    "collapsed": true
   },
   "outputs": [],
   "source": [
    "def sweep_lattice(isingmodel, kT):\n",
    "    \"\"\"\n",
    "    Perform N*M Monte Carlo spin flip attempts\n",
    "    \n",
    "    parameters:\n",
    "        isingModel: Ising lattice model object instance\n",
    "        kT: Boltzmann constant times temperature, $kT$\n",
    "    returns:\n",
    "        fraction of Monte Carlo proposals accepted\n",
    "    \"\"\"\n",
    "    num_flips = isingmodel.M * isingmodel.N\n",
    "    # keep track of number of Monte Carlo propsoals that are accepted\n",
    "    n_accepted = 0\n",
    "    \n",
    "    for flip in range(num_flips):\n",
    "        # choose a spin to flip at random\n",
    "        i = np.random.randint(0, high=isingmodel.M)\n",
    "        j = np.random.randint(0, high=isingmodel.N)\n",
    "        \n",
    "        # calculate old energy\n",
    "        E_old = isingmodel.calculate_energy_of_spin(i, j)\n",
    "        \n",
    "        # flip the spin\n",
    "        isingmodel.flip_spin(i, j)\n",
    "        \n",
    "        # calculate new energy\n",
    "        E_new = isingmodel.calculate_energy_of_spin(i, j)\n",
    "        \n",
    "        # Monte Carlo: accept this proposal with probability e^{-\\beta \\Delta E}\n",
    "        if np.random.uniform(0, 1) > np.exp(-(E_new - E_old) / kT):\n",
    "            # reject move, flip spin back to original state\n",
    "            isingmodel.flip_spin(i, j)\n",
    "        else:\n",
    "            # else: accept, do nothing\n",
    "            n_accepted += 1\n",
    "    return 1.0 * n_accepted / (model.M * model.N)  # return fraction of MC moves accepted"
   ]
  },
  {
   "cell_type": "markdown",
   "metadata": {},
   "source": [
    "# Function for Monte Carlo simulations of Ising Model in Canonical Ensemble"
   ]
  },
  {
   "cell_type": "code",
   "execution_count": 36,
   "metadata": {
    "collapsed": false
   },
   "outputs": [],
   "source": [
    "def simulate(isingmodel, kT, num_sweeps, num_burn_sweeps, sample_frequency):\n",
    "    \"\"\"\n",
    "    Monte Carlo simulations of Ising model in Canonical ensemble\n",
    "    \n",
    "    parameters:\n",
    "        isingModel: Ising lattice model object instance\n",
    "        kT: Boltzmann constant times temperature, $kT$\n",
    "        num_sweeps: total number of Monte Carlo sweeps to perform in the simulation\n",
    "        num_burn_sweeps: number of sweeps for equilibration (no samples taken during this period)\n",
    "        sample_frequency: frequency at which to take samples\n",
    "    \"\"\"  \n",
    "    t0 = time.time()  # keep track of timing\n",
    "    \n",
    "    # Print info\n",
    "    print(\"Simulating Ising model:\")\n",
    "    isingmodel.print_params()\n",
    "    print(\"\\tTemperature (kT) = %f\" % kT)\n",
    "    print(\"\\t%d total sweeps, %d of them burn sweeps\" % (\n",
    "            num_sweeps, num_burn_sweeps))\n",
    "    print(\"\\t\\tSampling every %d sweeps\" % sample_frequency)\n",
    "    \n",
    "    # store energy and net magnetization samples here\n",
    "    energy_samples = np.zeros(((num_sweeps - num_burn_sweeps) / sample_frequency, ))\n",
    "    magnetization_samples = np.zeros(((num_sweeps - num_burn_sweeps) / sample_frequency, ))\n",
    "    \n",
    "    # keep track of number of samples taken\n",
    "    n_samples = 0\n",
    "    # keep track of fraction of proposals accepted\n",
    "    fraction_accepted_during_burn_sweeps = 0\n",
    "    fraction_accepted_during_sampling_sweeps = 0\n",
    "\n",
    "    for sweep in range(num_sweeps):\n",
    "        # sweep lattice\n",
    "        fraction_accepted = sweep_lattice(model, kT)\n",
    "\n",
    "        # if burn sweeps are done, take samples\n",
    "        if sweep >= num_burn_sweeps:\n",
    "            fraction_accepted_during_sampling_sweeps += fraction_accepted\n",
    "            \n",
    "            # take a sample every sample_frequency sweeps\n",
    "            if ((sweep - num_burn_sweeps) % sample_frequency) == 0:\n",
    "                energy_samples[n_samples] = model.calculate_lattice_energy_per_spin()\n",
    "                \n",
    "                magnetization_samples[n_samples] = model.calculate_net_magnetization_per_spin()\n",
    "                \n",
    "                n_samples += 1\n",
    "        else:\n",
    "            # if still in burn regime, keep track of fraction accepted\n",
    "            fraction_accepted_during_burn_sweeps += fraction_accepted\n",
    "        \n",
    "    print(\"\\t\\tFraction proposals accepted during burn sweeps = %f\" % (\n",
    "        1.0 * fraction_accepted_during_burn_sweeps / num_burn_sweeps))\n",
    "    print(\"\\t\\tFraction proposals accepted during sampling regime = %f\" % (\n",
    "        1.0 * fraction_accepted_during_sampling_sweeps / (num_sweeps - num_burn_sweeps)))\n",
    "    \n",
    "    print(\"\\t<E> = %f +/- %f\" % (np.mean(energy_samples),\n",
    "                                 1.96 * np.std(energy_samples) / np.sqrt(n_samples)))\n",
    "    print(\"\\t<m> = %f +/- %f\" % (np.mean(magnetization_samples), \n",
    "                                 1.96 * np.std(magnetization_samples) / np.sqrt(n_samples)))\n",
    "    \n",
    "    print(\"\\tSimulation finished. Took %s sec.\" % (time.time() - t0))\n",
    "    assert((num_sweeps - num_burn_sweeps) / sample_frequency)\n",
    "    \n",
    "    return energy_samples, magnetization_samples"
   ]
  },
  {
   "cell_type": "markdown",
   "metadata": {},
   "source": [
    "# An example Monte Carlo simulation of the Ising Model"
   ]
  },
  {
   "cell_type": "code",
   "execution_count": 37,
   "metadata": {
    "collapsed": false
   },
   "outputs": [],
   "source": [
    "model = IsingModel(20, 20, 2.0, 0.0)\n",
    "critical_kT = model.critical_kT()"
   ]
  },
  {
   "cell_type": "code",
   "execution_count": 44,
   "metadata": {
    "collapsed": false
   },
   "outputs": [
    {
     "name": "stdout",
     "output_type": "stream",
     "text": [
      "Simulating Ising model:\n",
      "\t20 by 20 lattice\n",
      "\tJ = 2.000000   (+ve means preferable )\n",
      "\th = 0.000000\n",
      "\tTemperature (kT) = 5.446045\n",
      "\t2000 total sweeps, 1000 of them burn sweeps\n",
      "\t\tSampling every 1 sweeps\n",
      "\t\tFraction proposals accepted during burn sweeps = 0.391230\n",
      "\t\tFraction proposals accepted during sampling regime = 0.392400\n",
      "\t<E> = -1.905840 +/- 0.011654\n",
      "\t<m> = -0.007740 +/- 0.013795\n",
      "\tSimulation finished. Took 3.62893199921 sec.\n"
     ]
    },
    {
     "data": {
      "image/png": "[encoded data removed]",
      "text/plain": [
       "<matplotlib.figure.Figure at 0x7f9b5ea17850>"
      ]
     },
     "metadata": {},
     "output_type": "display_data"
    }
   ],
   "source": [
    "energy_samples, magnetization_samples = simulate(model, critical_kT * 1.2, 2000, 1000, 1)\n",
    "model.plot_lattice()"
   ]
  },
  {
   "cell_type": "code",
   "execution_count": 45,
   "metadata": {
    "collapsed": false
   },
   "outputs": [
    {
     "data": {
      "image/png": "[encoded data removed]",
      "text/plain": [
       "<matplotlib.figure.Figure at 0x7f9b5e728e50>"
      ]
     },
     "metadata": {},
     "output_type": "display_data"
    }
   ],
   "source": [
    "plot_autocorrelation(energy_samples, 35)"
   ]
  },
  {
   "cell_type": "code",
   "execution_count": 46,
   "metadata": {
    "collapsed": false
   },
   "outputs": [
    {
     "data": {
      "image/png": "[encoded data removed]",
      "text/plain": [
       "<matplotlib.figure.Figure at 0x7f9b5e6f7450>"
      ]
     },
     "metadata": {},
     "output_type": "display_data"
    }
   ],
   "source": [
    "plot_autocorrelation(magnetization_samples, 35)"
   ]
  },
  {
   "cell_type": "markdown",
   "metadata": {},
   "source": [
    "# Complete elliptic integrals of the first and second kind"
   ]
  },
  {
   "cell_type": "markdown",
   "metadata": {},
   "source": [
    "From the Scipy website, note that these differ from the definition in Koonin and Meredith.\n",
    "\n",
    "http://docs.scipy.org/doc/scipy/reference/generated/scipy.special.ellipk.html#scipy.special.ellipk\n",
    "http://docs.scipy.org/doc/scipy/reference/generated/scipy.special.ellipe.html#scipy.special.ellipe\n",
    "\n",
    "`ellipk(kappa**2)`\n",
    "returns $K_1(\\kappa)$\n",
    "\n",
    "`ellipe(kappa**2)`\n",
    "returns $E_1(\\kappa)$"
   ]
  },
  {
   "cell_type": "code",
   "execution_count": 47,
   "metadata": {
    "collapsed": true
   },
   "outputs": [],
   "source": [
    "from scipy.special import ellipk, ellipe"
   ]
  },
  {
   "cell_type": "code",
   "execution_count": 48,
   "metadata": {
    "collapsed": false
   },
   "outputs": [
    {
     "data": {
      "text/plain": [
       "1.6596235986105281"
      ]
     },
     "execution_count": 48,
     "metadata": {},
     "output_type": "execute_result"
    }
   ],
   "source": [
    "ellipk(0.2)"
   ]
  },
  {
   "cell_type": "code",
   "execution_count": 49,
   "metadata": {
    "collapsed": false
   },
   "outputs": [
    {
     "data": {
      "text/plain": [
       "1.4890350580958529"
      ]
     },
     "execution_count": 49,
     "metadata": {},
     "output_type": "execute_result"
    }
   ],
   "source": [
    "ellipe(0.2)"
   ]
  }
 ],
 "metadata": {
  "kernelspec": {
   "display_name": "Python 2",
   "language": "python",
   "name": "python2"
  },
  "language_info": {
   "codemirror_mode": {
    "name": "ipython",
    "version": 2
   },
   "file_extension": ".py",
   "mimetype": "text/x-python",
   "name": "python",
   "nbconvert_exporter": "python",
   "pygments_lexer": "ipython2",
   "version": "2.7.6"
  }
 },
 "nbformat": 4,
 "nbformat_minor": 0
}
