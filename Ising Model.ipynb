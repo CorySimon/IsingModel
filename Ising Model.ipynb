{
 "cells": [
  {
   "cell_type": "code",
   "execution_count": 13,
   "metadata": {
    "collapsed": false
   },
   "outputs": [],
   "source": [
    "import numpy as np  # package for arrays\n",
    "import matplotlib.pyplot as plt  # package for plotting\n",
    "import time  # for timing\n",
    "# display plots inside of notebook\n",
    "%matplotlib inline"
   ]
  },
  {
   "cell_type": "markdown",
   "metadata": {},
   "source": [
    "We have an $M$ by $N$ lattice of spins. Let $\\sigma_i \\in \\{-1, 1\\}$ be the spin of lattice site $i$. The energy of the system is:\n",
    "\n",
    "$\\sum_{(i,j)} ' J \\sigma_i \\sigma_j - \\sum_j h \\sigma _j$,\n",
    "    \n",
    "where the prime denotes a sum over nearest neighbors on the $M$ by $N$ lattice.\n",
    "\n",
    "We implement periodic boundary conditions to mimic a system of infinite extent.\n",
    "\n",
    "The following class, `IsingModel`, is a data structure to store attributes of an Ising Model and provide abstractions to manipulate the lattice for simulations.\n",
    "\n",
    "For example, to construct an instance of an `IsingModel` class as a 20 by 10 lattice with $J=1.0$ and $h=0$:\n",
    "\n",
    "    model = IsingModel(20, 10, 1.0, 0.0)\n",
    "    model.print_attributes()\n",
    "\n",
    "The lattice state is stored in an $M$ by $N$ numpy array, `lattice_state`; each entry is either -1 and 1. Each site of the lattice is initialized as -1 or 1 with equal probability in the initial construction of an instance. Retreive the lattice state by:\n",
    "\n",
    "    model.lattice_state\n",
    "    \n",
    "Plot the lattice state by:\n",
    "\n",
    "    model.plot_lattice()\n",
    "    \n",
    "We can conveniently manipulate the lattice for simulations. For example, to flip the spin in row 2 and column 3 and calculate the energy of this spin:\n",
    "\n",
    "    model.flip_spin(2, 3)\n",
    "    model.calculate_energy_of_spin(2, 3)\n",
    "    "
   ]
  },
  {
   "cell_type": "code",
   "execution_count": 14,
   "metadata": {
    "collapsed": true
   },
   "outputs": [],
   "source": [
    "class IsingModel:\n",
    "    \"\"\"\n",
    "    Store attributes of an Ising lattice model\n",
    "    Provide abstractions to conveniently manipulate lattice for simulations\n",
    "    \"\"\"\n",
    "    def __init__(self, M, N, J, h):\n",
    "        \"\"\"\n",
    "        Initialization.\n",
    "        \n",
    "        parameters:\n",
    "            lattice is M by N sites\n",
    "            J: interaction between neighbors (units: kT)\n",
    "            h: background field (units: kT)\n",
    "        \"\"\"\n",
    "        # store parameters for convenience:\n",
    "        #   energetic parameters\n",
    "        self.J = J\n",
    "        self.h = h\n",
    "        \n",
    "        #   size of lattice\n",
    "        self.M = M\n",
    "        self.N = N\n",
    "        \n",
    "        # store lattice state with M by N array of -1 or 1\n",
    "        # initialize each site as -1 or 1 with equal probability\n",
    "        lattice_state = np.random.randint(-1, high=1, size=(M, N))\n",
    "        lattice_state[lattice_state == 0] = 1\n",
    "        self.lattice_state = lattice_state\n",
    "    \n",
    "    def print_params(self):\n",
    "        \"\"\"\n",
    "        Print lattice attributes\n",
    "        \"\"\"\n",
    "        print(\"%d by %d lattice\" % (self.M, self.N))\n",
    "        print(\"J = %f\" % self.J)\n",
    "        print(\"h = %f\" % self.h)\n",
    "    \n",
    "    def critical_kT(self):\n",
    "        \"\"\"\n",
    "        Calculate critical temperature of this lattice model. Depends on J.\n",
    "        \"\"\"\n",
    "        return 2.0 * self.J / (np.log(1.0 + np.sqrt(2.0)))\n",
    "    \n",
    "    def flip_spin(self, i, j):\n",
    "        \"\"\"\n",
    "        Flip spin (i, j)\n",
    "        i.e. -1 ---> 1\n",
    "              1 ---> -1\n",
    "        \"\"\"\n",
    "        self.lattice_state[i, j] = - self.lattice_state[i, j]\n",
    "    \n",
    "    def calculate_energy_of_spin(self, i, j):\n",
    "        \"\"\"\n",
    "        Calculate energy of spin (i, j)\n",
    "        \n",
    "        Periodic boundary conditions implemented\n",
    "        \"\"\"\n",
    "        spin_here = self.lattice_state[i, j]  # value of spin here\n",
    "        \n",
    "        # value of spin above, below, left, and right of spin (i, j)\n",
    "        # for each, if on boundary, we wrap around to the other side\n",
    "        # of the lattice for periodic boundary conditions\n",
    "        if j == 0:\n",
    "            spin_above = self.lattice_state[i, self.N - 1]\n",
    "        else:\n",
    "            spin_above = self.lattice_state[i, j - 1]\n",
    "        \n",
    "        if j == self.N - 1:\n",
    "            spin_below = self.lattice_state[i, 0]\n",
    "        else:\n",
    "            spin_below = self.lattice_state[i, j + 1]\n",
    "            \n",
    "        if i == self.M - 1:\n",
    "            spin_right = self.lattice_state[0, j]\n",
    "        else:\n",
    "            spin_right = self.lattice_state[i + 1, j]\n",
    "        \n",
    "        if i == 0:\n",
    "            spin_left = self.lattice_state[self.M - 1, j]\n",
    "        else:\n",
    "            spin_left = self.lattice_state[i - 1, j]\n",
    "        \n",
    "        return - self.h * spin_here +  self.J * spin_here *\\\n",
    "            (spin_above + spin_below + spin_left + spin_right)\n",
    "        \n",
    "    def plot_lattice(self):\n",
    "        \"\"\"\n",
    "        Plot lattice configuration\n",
    "        \"\"\"\n",
    "        plt.figure()\n",
    "        \n",
    "        imgplot = plt.imshow(self.lattice_state)\n",
    "        imgplot.set_interpolation('none')\n",
    "        \n",
    "        plt.xticks(range(self.N))\n",
    "        plt.yticks(range(self.M))\n",
    "        \n",
    "        plt.show()\n",
    "    \n",
    "    def calculate_lattice_energy_per_spin(self):\n",
    "        \"\"\"\n",
    "        Calculate energy of lattice normalized by the number of spins\n",
    "        \"\"\"\n",
    "        E = 0.0\n",
    "        for i in range(self.M):\n",
    "            for j in range(self.N):\n",
    "                E = E + self.calculate_energy_of_spin(i, j)\n",
    "        return E / 2.0 / (self.M * self.N) # factor of two for overcounting\n",
    "    \n",
    "    def calculate_net_magnetization_per_spin(self):\n",
    "        \"\"\"\n",
    "        Calculate net magentization normalized by the number of spins\n",
    "        \"\"\"\n",
    "        return 1.0 * np.sum(self.lattice_state) / (self.M * self.N)\n",
    "        "
   ]
  },
  {
   "cell_type": "markdown",
   "metadata": {},
   "source": [
    "## Example use"
   ]
  },
  {
   "cell_type": "code",
   "execution_count": 15,
   "metadata": {
    "collapsed": false
   },
   "outputs": [
    {
     "data": {
      "image/png": "[encoded data removed]",
      "text/plain": [
       "<matplotlib.figure.Figure at 0x7fa34ff1c950>"
      ]
     },
     "metadata": {},
     "output_type": "display_data"
    }
   ],
   "source": [
    "model = IsingModel(3, 5, 1.0, 0.0)\n",
    "model.plot_lattice()"
   ]
  },
  {
   "cell_type": "code",
   "execution_count": 16,
   "metadata": {
    "collapsed": false
   },
   "outputs": [
    {
     "data": {
      "text/plain": [
       "0.0"
      ]
     },
     "execution_count": 16,
     "metadata": {},
     "output_type": "execute_result"
    }
   ],
   "source": [
    "model.calculate_energy_of_spin(2, 0)"
   ]
  },
  {
   "cell_type": "code",
   "execution_count": 17,
   "metadata": {
    "collapsed": false
   },
   "outputs": [
    {
     "data": {
      "image/png": "[encoded data removed]",
      "text/plain": [
       "<matplotlib.figure.Figure at 0x7fa34fe6d3d0>"
      ]
     },
     "metadata": {},
     "output_type": "display_data"
    }
   ],
   "source": [
    "model.flip_spin(0, 0)\n",
    "model.plot_lattice()"
   ]
  },
  {
   "cell_type": "markdown",
   "metadata": {},
   "source": [
    "# Autocorrelation functions to determine how many sweeps needed before samples become statistically independent"
   ]
  },
  {
   "cell_type": "code",
   "execution_count": 18,
   "metadata": {
    "collapsed": true
   },
   "outputs": [],
   "source": [
    "def autocorrelation_k_steps(data, k):\n",
    "    \"\"\"\n",
    "    Calculate autocorrelation of data after k steps\n",
    "    https://en.wikipedia.org/wiki/Autocorrelation#Estimation\n",
    "    \"\"\"\n",
    "    mu = np.mean(data)  # mean\n",
    "    n = np.size(data)  # number of data points\n",
    "    variance = np.var(data)  # variance\n",
    "    \n",
    "    corr = 0.0  # autocorrelation\n",
    "    for t in range(n - k):\n",
    "        corr += (data[t] - mu) * (data[t + k] - mu)\n",
    "    return corr / (variance * (n - k))\n",
    "\n",
    "def plot_autocorrelation(data, kmax):\n",
    "    \"\"\"\n",
    "    Plot autocorrelation function of data up to kmax steps\n",
    "    \"\"\"\n",
    "    corr = np.zeros((kmax, ))\n",
    "    for k in range(kmax):\n",
    "        corr[k] = autocorrelation_k_steps(data, k)\n",
    "        \n",
    "    fig = plt.figure()\n",
    "    plt.xlabel(\"Monte Carlo cycle\")\n",
    "    plt.ylabel(\"Autocorrelation\")\n",
    "    plt.plot(np.arange(kmax), corr, marker='s')\n",
    "    plt.show()"
   ]
  },
  {
   "cell_type": "markdown",
   "metadata": {},
   "source": [
    "# Function to sweep the lattice in a Monte Carlo simulation"
   ]
  },
  {
   "cell_type": "markdown",
   "metadata": {},
   "source": [
    "Our function `sweep_lattice` will perform $NM$ Monte Carlo spin flip trials. We call it `sweep_lattice` because, on average, each spin will be selected for a Monte Carlo trial once during a 'sweep'."
   ]
  },
  {
   "cell_type": "code",
   "execution_count": 19,
   "metadata": {
    "collapsed": true
   },
   "outputs": [],
   "source": [
    "def sweep_lattice(isingmodel, kT):\n",
    "    \"\"\"\n",
    "    Perform N*M Monte Carlo spin flip attempts\n",
    "    \n",
    "    parameters:\n",
    "        isingModel: Ising lattice model object instance\n",
    "        kT: Boltzmann constant times temperature, $kT$\n",
    "    \"\"\"\n",
    "    num_flips = isingmodel.M * isingmodel.N\n",
    "    \n",
    "    for flip in range(num_flips):\n",
    "        # choose a spin to flip at random\n",
    "        i = np.random.randint(0, high=isingmodel.M)\n",
    "        j = np.random.randint(0, high=isingmodel.N)\n",
    "        \n",
    "        # calculate old energy\n",
    "        E_old = isingmodel.calculate_energy_of_spin(i, j)\n",
    "        \n",
    "        # flip the spin\n",
    "        isingmodel.flip_spin(i, j)\n",
    "        \n",
    "        # calculate new energy\n",
    "        E_new = isingmodel.calculate_energy_of_spin(i, j)\n",
    "        \n",
    "        # Monte Carlo: accept this proposal with probability e^{-\\beta \\Delta E}\n",
    "        if np.random.uniform(0, 1) > np.exp(-(E_new - E_old) / kT):\n",
    "            # reject move, flip spin back to original state\n",
    "            isingmodel.flip_spin(i, j)\n",
    "        # else: accept, do nothing"
   ]
  },
  {
   "cell_type": "markdown",
   "metadata": {},
   "source": [
    "# Function for Monte Carlo simulations of Ising Model in Canonical Ensemble"
   ]
  },
  {
   "cell_type": "code",
   "execution_count": 20,
   "metadata": {
    "collapsed": false
   },
   "outputs": [],
   "source": [
    "def simulate(isingmodel, kT, num_sweeps, num_burn_sweeps, sample_frequency):\n",
    "    \"\"\"\n",
    "    Monte Carlo simulations of Ising model in Canonical ensemble\n",
    "    \n",
    "    parameters:\n",
    "        isingModel: Ising lattice model object instance\n",
    "        kT: Boltzmann constant times temperature, $kT$\n",
    "        num_sweeps: total number of Monte Carlo sweeps to perform in the simulation\n",
    "        num_burn_sweeps: number of sweeps for equilibration (no samples taken during this period)\n",
    "        sample_frequency: frequency at which to take samples\n",
    "    \"\"\"  \n",
    "    t0 = time.time()\n",
    "    \n",
    "    # store energy and net magnetization samples here\n",
    "    energy_samples = np.zeros(((num_sweeps - num_burn_sweeps) / sample_frequency, ))\n",
    "    magnetization_samples = np.zeros(((num_sweeps - num_burn_sweeps) / sample_frequency, ))\n",
    "    \n",
    "    # keep track of number of samples\n",
    "    n_samples = 0\n",
    "\n",
    "    for sweep in range(num_sweeps):\n",
    "        # sweep lattice\n",
    "        sweep_lattice(model, kT)\n",
    "\n",
    "        # take samples\n",
    "        if sweep >= num_burn_sweeps:\n",
    "            if ((sweep - num_burn_sweeps) % sample_frequency) == 0:\n",
    "                energy_samples[n_samples] = model.calculate_lattice_energy_per_spin()\n",
    "                \n",
    "                magnetization_samples[n_samples] = model.calculate_net_magnetization_per_spin()\n",
    "                \n",
    "                n_samples += 1\n",
    "    \n",
    "    print(\"\\tSimulation finished. Took %s sec.\" % (time.time() - t0))\n",
    "    \n",
    "    return energy_samples, magnetization_samples"
   ]
  },
  {
   "cell_type": "code",
   "execution_count": 21,
   "metadata": {
    "collapsed": true
   },
   "outputs": [],
   "source": [
    "model = IsingModel(30, 30, 1.0, 0.0)\n",
    "critical_kT = model.critical_kT()"
   ]
  },
  {
   "cell_type": "code",
   "execution_count": 22,
   "metadata": {
    "collapsed": false
   },
   "outputs": [
    {
     "name": "stdout",
     "output_type": "stream",
     "text": [
      "\tSimulation finished. Took 50.179954052 sec.\n"
     ]
    },
    {
     "data": {
      "image/png": "[encoded data removed]",
      "text/plain": [
       "<matplotlib.figure.Figure at 0x7fa34fdd1f90>"
      ]
     },
     "metadata": {},
     "output_type": "display_data"
    }
   ],
   "source": [
    "energy_samples, magnetization_samples = simulate(model, critical_kT * 1.3, 10000, 1000, 1)\n",
    "model.plot_lattice()"
   ]
  },
  {
   "cell_type": "code",
   "execution_count": 23,
   "metadata": {
    "collapsed": false
   },
   "outputs": [
    {
     "data": {
      "text/plain": [
       "array([-0.83555556, -0.84444444, -0.80444444, ..., -0.83555556,\n",
       "       -0.87111111, -0.90666667])"
      ]
     },
     "execution_count": 23,
     "metadata": {},
     "output_type": "execute_result"
    }
   ],
   "source": [
    "energy_samples"
   ]
  },
  {
   "cell_type": "code",
   "execution_count": 24,
   "metadata": {
    "collapsed": false
   },
   "outputs": [
    {
     "data": {
      "image/png": "[encoded data removed]",
      "text/plain": [
       "<matplotlib.figure.Figure at 0x7fa34fd94650>"
      ]
     },
     "metadata": {},
     "output_type": "display_data"
    }
   ],
   "source": [
    "plot_autocorrelation(energy_samples, 15)"
   ]
  },
  {
   "cell_type": "code",
   "execution_count": null,
   "metadata": {
    "collapsed": true
   },
   "outputs": [],
   "source": []
  }
 ],
 "metadata": {
  "kernelspec": {
   "display_name": "Python 2",
   "language": "python",
   "name": "python2"
  },
  "language_info": {
   "codemirror_mode": {
    "name": "ipython",
    "version": 2
   },
   "file_extension": ".py",
   "mimetype": "text/x-python",
   "name": "python",
   "nbconvert_exporter": "python",
   "pygments_lexer": "ipython2",
   "version": "2.7.6"
  }
 },
 "nbformat": 4,
 "nbformat_minor": 0
}
