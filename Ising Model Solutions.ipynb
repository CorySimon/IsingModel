{
 "cells": [
  {
   "cell_type": "code",
   "execution_count": 1,
   "metadata": {
    "collapsed": false
   },
   "outputs": [],
   "source": [
    "import numpy as np  # package for arrays\n",
    "import matplotlib.pyplot as plt  # package for plotting\n",
    "import time  # for timing\n",
    "# display plots inside of notebook\n",
    "%matplotlib inline"
   ]
  },
  {
   "cell_type": "markdown",
   "metadata": {},
   "source": [
    "We have an $M$ by $N$ lattice of spins. Let $\\sigma_i \\in \\{-1, 1\\}$ be the spin of lattice site $i$. The energy of the system is:\n",
    "\n",
    "$\\sum_{(i,j)} ' -J \\sigma_i \\sigma_j - \\sum_j h \\sigma _j$,\n",
    "    \n",
    "where the prime denotes a sum over nearest neighbors on the $M$ by $N$ lattice.\n",
    "\n",
    "We implement periodic boundary conditions to mimic a system of infinite extent.\n",
    "\n",
    "The following class, `IsingModel`, is a data structure to store attributes of an Ising Model and provide abstractions to manipulate the lattice for simulations.\n",
    "\n",
    "For example, to construct an instance of an `IsingModel` class as a 20 by 10 lattice with $J=1.0$ and $h=0$:\n",
    "\n",
    "    model = IsingModel(20, 10, 1.0, 0.0)\n",
    "    model.print_attributes()\n",
    "\n",
    "The lattice state is stored in an $M$ by $N$ numpy array, `lattice_state`; each entry is either -1 and 1. Each site of the lattice is initialized as -1 or 1 with equal probability in the initial construction of an instance. Retreive the lattice state by:\n",
    "\n",
    "    model.lattice_state\n",
    "    \n",
    "Plot the lattice state by:\n",
    "\n",
    "    model.plot_lattice()\n",
    "    \n",
    "We can conveniently manipulate the lattice for simulations. For example, to flip the spin in row 2 and column 3 and calculate the energy of this spin:\n",
    "\n",
    "    model.flip_spin(2, 3)\n",
    "    model.calculate_energy_of_spin(2, 3)\n",
    "    "
   ]
  },
  {
   "cell_type": "code",
   "execution_count": 2,
   "metadata": {
    "collapsed": false
   },
   "outputs": [],
   "source": [
    "class IsingModel:\n",
    "    \"\"\"\n",
    "    Store attributes of an Ising lattice model\n",
    "    Provide abstractions to conveniently manipulate lattice for simulations\n",
    "    \"\"\"\n",
    "    def __init__(self, M, N, J, h):\n",
    "        \"\"\"\n",
    "        Initialization.\n",
    "        \n",
    "        parameters:\n",
    "            lattice is M by N sites\n",
    "            J: interaction between neighbors (units: kT)\n",
    "            h: background field (units: kT)\n",
    "        \"\"\"\n",
    "        # store parameters for convenience:\n",
    "        #   energetic parameters\n",
    "        self.J = J\n",
    "        self.h = h\n",
    "        \n",
    "        #   size of lattice\n",
    "        self.M = M\n",
    "        self.N = N\n",
    "        \n",
    "        # store lattice state with M by N array of -1 or 1\n",
    "        # initialize each site as -1 or 1 with equal probability\n",
    "        lattice_state = np.random.randint(-1, high=1, size=(M, N))\n",
    "        lattice_state[lattice_state == 0] = 1\n",
    "        self.lattice_state = lattice_state\n",
    "    \n",
    "    def print_params(self):\n",
    "        \"\"\"\n",
    "        Print lattice attributes\n",
    "        \"\"\"\n",
    "        print(\"\\t%d by %d lattice\" % (self.M, self.N))\n",
    "        print(\"\\tJ = %f   (+ve means preferable )\" % self.J)\n",
    "        print(\"\\th = %f\" % self.h)\n",
    "    \n",
    "    def critical_kT(self):\n",
    "        \"\"\"\n",
    "        Calculate critical temperature of this lattice model. Depends on J.\n",
    "        \"\"\"\n",
    "        return 2.0 * self.J / (np.log(1.0 + np.sqrt(2.0)))\n",
    "    \n",
    "    def flip_spin(self, i, j):\n",
    "        \"\"\"\n",
    "        Flip spin (i, j)\n",
    "        i.e. -1 ---> 1\n",
    "              1 ---> -1\n",
    "        \"\"\"\n",
    "        self.lattice_state[i, j] = - self.lattice_state[i, j]\n",
    "    \n",
    "    def calculate_energy_of_spin(self, i, j):\n",
    "        \"\"\"\n",
    "        Calculate energy of spin (i, j)\n",
    "        \n",
    "        Periodic boundary conditions implemented\n",
    "        \"\"\"\n",
    "        spin_here = self.lattice_state[i, j]  # value of spin here\n",
    "        \n",
    "        # value of spin above, below, left, and right of spin (i, j)\n",
    "        # for each, if on boundary, we wrap around to the other side\n",
    "        # of the lattice for periodic boundary conditions\n",
    "        if j == 0:\n",
    "            spin_above = self.lattice_state[i, self.N - 1]\n",
    "        else:\n",
    "            spin_above = self.lattice_state[i, j - 1]\n",
    "        \n",
    "        if j == self.N - 1:\n",
    "            spin_below = self.lattice_state[i, 0]\n",
    "        else:\n",
    "            spin_below = self.lattice_state[i, j + 1]\n",
    "            \n",
    "        if i == self.M - 1:\n",
    "            spin_right = self.lattice_state[0, j]\n",
    "        else:\n",
    "            spin_right = self.lattice_state[i + 1, j]\n",
    "        \n",
    "        if i == 0:\n",
    "            spin_left = self.lattice_state[self.M - 1, j]\n",
    "        else:\n",
    "            spin_left = self.lattice_state[i - 1, j]\n",
    "        \n",
    "        return - self.h * spin_here - self.J * spin_here *\\\n",
    "            (spin_above + spin_below + spin_left + spin_right)\n",
    "        \n",
    "    def plot_lattice(self):\n",
    "        \"\"\"\n",
    "        Plot lattice configuration\n",
    "        \"\"\"\n",
    "        plt.figure()\n",
    "        \n",
    "        imgplot = plt.imshow(self.lattice_state)\n",
    "        imgplot.set_interpolation('none')\n",
    "        \n",
    "        plt.xticks(range(self.N))\n",
    "        plt.yticks(range(self.M))\n",
    "        \n",
    "        plt.show()\n",
    "    \n",
    "    def calculate_lattice_energy_per_spin(self):\n",
    "        \"\"\"\n",
    "        Calculate energy of lattice normalized by the number of spins\n",
    "        \"\"\"\n",
    "        E = 0.0\n",
    "        for i in range(self.M):\n",
    "            for j in range(self.N):\n",
    "                E += self.calculate_energy_of_spin(i, j)\n",
    "        # factor of two for overcounting neighboring interactions.\n",
    "        # but then need to add back -1/2 h \\sum s_i \n",
    "        return E / 2.0 / (self.M * self.N) -\\\n",
    "            self.h * np.sum(self.lattice_state) / 2.0 / (self.M * self.N)\n",
    "       \n",
    "    def calculate_net_magnetization_per_spin(self):\n",
    "        \"\"\"\n",
    "        Calculate net magentization normalized by the number of spins\n",
    "        \"\"\"\n",
    "        return 1.0 * np.sum(self.lattice_state) / (self.M * self.N)"
   ]
  },
  {
   "cell_type": "markdown",
   "metadata": {},
   "source": [
    "## Example use"
   ]
  },
  {
   "cell_type": "code",
   "execution_count": 3,
   "metadata": {
    "collapsed": false
   },
   "outputs": [
    {
     "data": {
      "image/png": "[encoded data removed]",
      "text/plain": [
       "<matplotlib.figure.Figure at 0x7f8ee4b9aed0>"
      ]
     },
     "metadata": {},
     "output_type": "display_data"
    }
   ],
   "source": [
    "model = IsingModel(3, 5, 1.0, 0.0)\n",
    "model.plot_lattice()"
   ]
  },
  {
   "cell_type": "code",
   "execution_count": 4,
   "metadata": {
    "collapsed": false
   },
   "outputs": [
    {
     "data": {
      "text/plain": [
       "-2.0"
      ]
     },
     "execution_count": 4,
     "metadata": {},
     "output_type": "execute_result"
    }
   ],
   "source": [
    "model.calculate_energy_of_spin(2, 0)"
   ]
  },
  {
   "cell_type": "code",
   "execution_count": 5,
   "metadata": {
    "collapsed": false
   },
   "outputs": [
    {
     "data": {
      "image/png": "[encoded data removed]",
      "text/plain": [
       "<matplotlib.figure.Figure at 0x7f8ee4b7aa90>"
      ]
     },
     "metadata": {},
     "output_type": "display_data"
    }
   ],
   "source": [
    "model.flip_spin(0, 0)\n",
    "model.plot_lattice()"
   ]
  },
  {
   "cell_type": "markdown",
   "metadata": {},
   "source": [
    "# Autocorrelation functions to determine how many sweeps needed before samples become statistically independent"
   ]
  },
  {
   "cell_type": "code",
   "execution_count": 6,
   "metadata": {
    "collapsed": true
   },
   "outputs": [],
   "source": [
    "def autocorrelation_k_steps(data, k):\n",
    "    \"\"\"\n",
    "    Calculate autocorrelation of data after k steps\n",
    "    https://en.wikipedia.org/wiki/Autocorrelation#Estimation\n",
    "    \"\"\"\n",
    "    mu = np.mean(data)  # mean\n",
    "    n = np.size(data)  # number of data points\n",
    "    variance = np.var(data)  # variance\n",
    "    \n",
    "    corr = 0.0  # autocorrelation\n",
    "    for t in range(n - k):\n",
    "        corr += (data[t] - mu) * (data[t + k] - mu)\n",
    "    return corr / (variance * (n - k))\n",
    "\n",
    "def plot_autocorrelation(data, kmax):\n",
    "    \"\"\"\n",
    "    Plot autocorrelation function of data up to kmax steps\n",
    "    \"\"\"\n",
    "    corr = np.zeros((kmax, ))\n",
    "    for k in range(kmax):\n",
    "        corr[k] = autocorrelation_k_steps(data, k)\n",
    "        \n",
    "    fig = plt.figure()\n",
    "    \n",
    "    plt.xlabel(\"Monte Carlo cycle\")\n",
    "    plt.ylabel(\"Autocorrelation\")\n",
    "    \n",
    "    plt.ylim([0, 1])\n",
    "    \n",
    "    plt.plot(np.arange(kmax), corr, marker='s')\n",
    "    \n",
    "    plt.show()"
   ]
  },
  {
   "cell_type": "markdown",
   "metadata": {},
   "source": [
    "# Function to sweep the lattice in a Monte Carlo simulation"
   ]
  },
  {
   "cell_type": "markdown",
   "metadata": {},
   "source": [
    "Our function `sweep_lattice` will perform $NM$ Monte Carlo spin flip trials. We call it `sweep_lattice` because, on average, each spin will be selected for a Monte Carlo trial once during a 'sweep'."
   ]
  },
  {
   "cell_type": "code",
   "execution_count": 7,
   "metadata": {
    "collapsed": true
   },
   "outputs": [],
   "source": [
    "def sweep_lattice(isingmodel, kT):\n",
    "    \"\"\"\n",
    "    Perform N*M Monte Carlo spin flip attempts\n",
    "    \n",
    "    parameters:\n",
    "        isingModel: Ising lattice model object instance\n",
    "        kT: Boltzmann constant times temperature, $kT$\n",
    "    returns:\n",
    "        fraction of Monte Carlo proposals accepted\n",
    "    \"\"\"\n",
    "    num_flips = isingmodel.M * isingmodel.N\n",
    "    # keep track of number of Monte Carlo propsoals that are accepted\n",
    "    n_accepted = 0\n",
    "    \n",
    "    for flip in range(num_flips):\n",
    "        # choose a spin to flip at random\n",
    "        i = np.random.randint(0, high=isingmodel.M)\n",
    "        j = np.random.randint(0, high=isingmodel.N)\n",
    "        \n",
    "        # calculate old energy\n",
    "        E_old = isingmodel.calculate_energy_of_spin(i, j)\n",
    "        \n",
    "        # flip the spin\n",
    "        isingmodel.flip_spin(i, j)\n",
    "        \n",
    "        # calculate new energy\n",
    "        E_new = isingmodel.calculate_energy_of_spin(i, j)\n",
    "        \n",
    "        # Monte Carlo: accept this proposal with probability e^{-\\beta \\Delta E}\n",
    "        if np.random.uniform(0, 1) > np.exp(-(E_new - E_old) / kT):\n",
    "            # reject move, flip spin back to original state\n",
    "            isingmodel.flip_spin(i, j)\n",
    "        else:\n",
    "            # else: accept, do nothing\n",
    "            n_accepted += 1\n",
    "    return 1.0 * n_accepted / (model.M * model.N)  # return fraction of MC moves accepted"
   ]
  },
  {
   "cell_type": "markdown",
   "metadata": {},
   "source": [
    "# Function for Monte Carlo simulations of Ising Model in Canonical Ensemble"
   ]
  },
  {
   "cell_type": "code",
   "execution_count": 8,
   "metadata": {
    "collapsed": false
   },
   "outputs": [],
   "source": [
    "def simulate(isingmodel, kT, num_sweeps, num_burn_sweeps, sample_frequency):\n",
    "    \"\"\"\n",
    "    Monte Carlo simulations of Ising model in Canonical ensemble\n",
    "    \n",
    "    parameters:\n",
    "        isingModel: Ising lattice model object instance\n",
    "        kT: Boltzmann constant times temperature, $kT$\n",
    "        num_sweeps: total number of Monte Carlo sweeps to perform in the simulation\n",
    "        num_burn_sweeps: number of sweeps for equilibration (no samples taken during this period)\n",
    "        sample_frequency: frequency at which to take samples\n",
    "    \"\"\"  \n",
    "    t0 = time.time()  # keep track of timing\n",
    "    \n",
    "    # Print info\n",
    "    print(\"Simulating Ising model:\")\n",
    "    isingmodel.print_params()\n",
    "    print(\"\\tTemperature (kT) = %f\" % kT)\n",
    "    print(\"\\t%d total sweeps, %d of them burn sweeps\" % (\n",
    "            num_sweeps, num_burn_sweeps))\n",
    "    print(\"\\t\\tSampling every %d sweeps\" % sample_frequency)\n",
    "    \n",
    "    # store energy and net magnetization samples here\n",
    "    energy_samples = np.zeros(((num_sweeps - num_burn_sweeps) / sample_frequency, ))\n",
    "    magnetization_samples = np.zeros(((num_sweeps - num_burn_sweeps) / sample_frequency, ))\n",
    "    \n",
    "    # keep track of number of samples taken\n",
    "    n_samples = 0\n",
    "    # keep track of fraction of proposals accepted\n",
    "    fraction_accepted_during_burn_sweeps = 0\n",
    "    fraction_accepted_during_sampling_sweeps = 0\n",
    "\n",
    "    for sweep in range(num_sweeps):\n",
    "        # sweep lattice\n",
    "        fraction_accepted = sweep_lattice(model, kT)\n",
    "\n",
    "        # if burn sweeps are done, take samples\n",
    "        if sweep >= num_burn_sweeps:\n",
    "            fraction_accepted_during_sampling_sweeps += fraction_accepted\n",
    "            \n",
    "            # take a sample every sample_frequency sweeps\n",
    "            if ((sweep - num_burn_sweeps) % sample_frequency) == 0:\n",
    "                energy_samples[n_samples] = model.calculate_lattice_energy_per_spin()\n",
    "                \n",
    "                magnetization_samples[n_samples] = model.calculate_net_magnetization_per_spin()\n",
    "                \n",
    "                n_samples += 1\n",
    "        else:\n",
    "            # if still in burn regime, keep track of fraction accepted\n",
    "            fraction_accepted_during_burn_sweeps += fraction_accepted\n",
    "        \n",
    "    print(\"\\t\\tFraction proposals accepted during burn sweeps = %f\" % (\n",
    "        1.0 * fraction_accepted_during_burn_sweeps / num_burn_sweeps))\n",
    "    print(\"\\t\\tFraction proposals accepted during sampling regime = %f\" % (\n",
    "        1.0 * fraction_accepted_during_sampling_sweeps / (num_sweeps - num_burn_sweeps)))\n",
    "    \n",
    "    print(\"\\t<E> = %f +/- %f\" % (np.mean(energy_samples),\n",
    "                                 1.96 * np.std(energy_samples) / np.sqrt(n_samples)))\n",
    "    print(\"\\t<m> = %f +/- %f\" % (np.mean(magnetization_samples), \n",
    "                                 1.96 * np.std(magnetization_samples) / np.sqrt(n_samples)))\n",
    "    \n",
    "    print(\"\\tSimulation finished. Took %s sec.\" % (time.time() - t0))\n",
    "    assert((num_sweeps - num_burn_sweeps) / sample_frequency)\n",
    "    \n",
    "    return energy_samples, magnetization_samples"
   ]
  },
  {
   "cell_type": "markdown",
   "metadata": {},
   "source": [
    "# An example Monte Carlo simulation of the Ising Model"
   ]
  },
  {
   "cell_type": "code",
   "execution_count": 9,
   "metadata": {
    "collapsed": false
   },
   "outputs": [],
   "source": [
    "model = IsingModel(20, 20, 1.0, 0.10)\n",
    "critical_kT = model.critical_kT()"
   ]
  },
  {
   "cell_type": "code",
   "execution_count": 10,
   "metadata": {
    "collapsed": false
   },
   "outputs": [
    {
     "name": "stdout",
     "output_type": "stream",
     "text": [
      "Simulating Ising model:\n",
      "\t20 by 20 lattice\n",
      "\tJ = 1.000000   (+ve means preferable )\n",
      "\th = 0.100000\n",
      "\tTemperature (kT) = 2.382645\n",
      "\t2000 total sweeps, 1000 of them burn sweeps\n",
      "\t\tSampling every 1 sweeps\n",
      "\t\tFraction proposals accepted during burn sweeps = 0.166808\n",
      "\t\tFraction proposals accepted during sampling regime = 0.172552\n",
      "\t<E> = -1.561524 +/- 0.007723\n",
      "\t<m> = 0.785645 +/- 0.004830\n",
      "\tSimulation finished. Took 4.49448895454 sec.\n"
     ]
    },
    {
     "data": {
      "image/png": "[encoded data removed]",
      "text/plain": [
       "<matplotlib.figure.Figure at 0x7f8ee2a5a390>"
      ]
     },
     "metadata": {},
     "output_type": "display_data"
    }
   ],
   "source": [
    "energy_samples, magnetization_samples = simulate(model, model.critical_kT() * 1.05, 2000, 1000, 1)\n",
    "model.plot_lattice()"
   ]
  },
  {
   "cell_type": "code",
   "execution_count": 11,
   "metadata": {
    "collapsed": false
   },
   "outputs": [
    {
     "data": {
      "image/png": "[encoded data removed]",
      "text/plain": [
       "<matplotlib.figure.Figure at 0x7f8ee4b9ae90>"
      ]
     },
     "metadata": {},
     "output_type": "display_data"
    }
   ],
   "source": [
    "plot_autocorrelation(energy_samples, 35)"
   ]
  },
  {
   "cell_type": "code",
   "execution_count": 12,
   "metadata": {
    "collapsed": false
   },
   "outputs": [
    {
     "data": {
      "image/png": "[encoded data removed]",
      "text/plain": [
       "<matplotlib.figure.Figure at 0x7f8ee283f0d0>"
      ]
     },
     "metadata": {},
     "output_type": "display_data"
    }
   ],
   "source": [
    "plot_autocorrelation(magnetization_samples, 35)"
   ]
  },
  {
   "cell_type": "markdown",
   "metadata": {},
   "source": [
    "# Complete elliptic integrals of the first and second kind"
   ]
  },
  {
   "cell_type": "markdown",
   "metadata": {},
   "source": [
    "From the Scipy website, note that these differ from the definition in Koonin and Meredith.\n",
    "\n",
    "http://docs.scipy.org/doc/scipy/reference/generated/scipy.special.ellipk.html#scipy.special.ellipk\n",
    "http://docs.scipy.org/doc/scipy/reference/generated/scipy.special.ellipe.html#scipy.special.ellipe\n",
    "\n",
    "`ellipk(kappa**2)`\n",
    "returns $K_1(\\kappa)$\n",
    "\n",
    "`ellipe(kappa**2)`\n",
    "returns $E_1(\\kappa)$"
   ]
  },
  {
   "cell_type": "code",
   "execution_count": 13,
   "metadata": {
    "collapsed": true
   },
   "outputs": [],
   "source": [
    "from scipy.special import ellipk, ellipe"
   ]
  },
  {
   "cell_type": "code",
   "execution_count": 14,
   "metadata": {
    "collapsed": false
   },
   "outputs": [
    {
     "data": {
      "text/plain": [
       "1.6596235986105281"
      ]
     },
     "execution_count": 14,
     "metadata": {},
     "output_type": "execute_result"
    }
   ],
   "source": [
    "ellipk(0.2)"
   ]
  },
  {
   "cell_type": "code",
   "execution_count": 15,
   "metadata": {
    "collapsed": false
   },
   "outputs": [
    {
     "data": {
      "text/plain": [
       "1.4890350580958529"
      ]
     },
     "execution_count": 15,
     "metadata": {},
     "output_type": "execute_result"
    }
   ],
   "source": [
    "ellipe(0.2)"
   ]
  },
  {
   "cell_type": "markdown",
   "metadata": {},
   "source": [
    "# Problem 8.6"
   ]
  },
  {
   "cell_type": "markdown",
   "metadata": {},
   "source": [
    "$J=0$"
   ]
  },
  {
   "cell_type": "markdown",
   "metadata": {},
   "source": [
    "If $J=0$, $E(s)=-h\\sum s_i$.\n",
    "\n",
    "Now, each spin is independent of the configuration of the others. So we can write the single-particle partition function $q$ as:\n",
    "\n",
    "$q=e^{-\\beta h} + e^{\\beta h}=2 \\cosh(\\beta h)$\n",
    "\n",
    "The partition function for the entire lattice, $Q$, is the product of these single-particle partition functions:\n",
    "\n",
    "$Q=q^N,$ where $N$ is the total number of lattice sites.\n",
    "\n",
    "i.e. $Q=(2\\cosh(\\beta h))^N$\n",
    "\n",
    "From this partition function $Q$, we can calculate average thermodynamic quantities:\n",
    "\n",
    "$\\langle E \\rangle =- \\frac{\\partial \\log Q}{\\partial \\beta}$\n",
    "\n",
    "$\\langle m \\rangle = \\frac{\\partial \\log Q}{\\partial \\beta h}$\n",
    "\n",
    "and then the magenetic susceptibility $\\Xi$ and heat capacity $c_v$, defined as:\n",
    "\n",
    "$ \\chi = \\frac{\\partial \\langle m \\rangle}{\\partial h}$\n",
    "\n",
    "$ c_v  = \\frac{\\partial \\langle E \\rangle}{\\partial T}$\n",
    "\n",
    "With some calculus:\n",
    "\n",
    "$\\langle E \\rangle = -N h \\tanh(\\beta h)$\n",
    "\n",
    "$\\langle m \\rangle = h \\tanh(\\beta h)$\n",
    "\n",
    "$\\chi = \\beta (\\langle m^2 \\rangle - \\langle m \\rangle^2)= \\beta (1-\\tanh^2(\\beta h)) / N_{sites}$\n",
    "\n",
    "$c_v/k = \\beta^2 (\\langle e^2 \\rangle - \\langle e \\rangle^2)= (\\beta h) ^2 (1-\\tanh^2(\\beta h)) / N_{sites}$"
   ]
  },
  {
   "cell_type": "markdown",
   "metadata": {},
   "source": [
    "Let's try different $h$'s and simulate the Ising model to compare to this analytical formula. The `linspace` function in numpy will generate a span of $h$'s."
   ]
  },
  {
   "cell_type": "code",
   "execution_count": 16,
   "metadata": {
    "collapsed": false
   },
   "outputs": [
    {
     "name": "stdout",
     "output_type": "stream",
     "text": [
      "Simulating Ising model:\n",
      "\t20 by 20 lattice\n",
      "\tJ = 0.000000   (+ve means preferable )\n",
      "\th = 0.000000\n",
      "\tTemperature (kT) = 1.000000\n",
      "\t3000 total sweeps, 2000 of them burn sweeps\n",
      "\t\tSampling every 4 sweeps\n",
      "\t\tFraction proposals accepted during burn sweeps = 1.000000\n",
      "\t\tFraction proposals accepted during sampling regime = 1.000000\n",
      "\t<E> = 0.000000 +/- 0.000000\n",
      "\t<m> = -0.004880 +/- 0.006155\n",
      "\tSimulation finished. Took 9.93126893044 sec.\n",
      "Simulating Ising model:\n",
      "\t20 by 20 lattice\n",
      "\tJ = 0.000000   (+ve means preferable )\n",
      "\th = 0.750000\n",
      "\tTemperature (kT) = 1.000000\n",
      "\t3000 total sweeps, 2000 of them burn sweeps\n",
      "\t\tSampling every 4 sweeps\n",
      "\t\tFraction proposals accepted during burn sweeps = 0.364840\n",
      "\t\tFraction proposals accepted during sampling regime = 0.365087\n",
      "\t<E> = -0.477810 +/- 0.003528\n",
      "\t<m> = 0.637080 +/- 0.004704\n",
      "\tSimulation finished. Took 10.8095188141 sec.\n",
      "Simulating Ising model:\n",
      "\t20 by 20 lattice\n",
      "\tJ = 0.000000   (+ve means preferable )\n",
      "\th = 1.500000\n",
      "\tTemperature (kT) = 1.000000\n",
      "\t3000 total sweeps, 2000 of them burn sweeps\n",
      "\t\tSampling every 4 sweeps\n",
      "\t\tFraction proposals accepted during burn sweeps = 0.095137\n",
      "\t\tFraction proposals accepted during sampling regime = 0.094340\n",
      "\t<E> = -1.359960 +/- 0.003875\n",
      "\t<m> = 0.906640 +/- 0.002583\n",
      "\tSimulation finished. Took 11.0972828865 sec.\n",
      "Simulating Ising model:\n",
      "\t20 by 20 lattice\n",
      "\tJ = 0.000000   (+ve means preferable )\n",
      "\th = 2.250000\n",
      "\tTemperature (kT) = 1.000000\n",
      "\t3000 total sweeps, 2000 of them burn sweeps\n",
      "\t\tSampling every 4 sweeps\n",
      "\t\tFraction proposals accepted during burn sweeps = 0.022461\n",
      "\t\tFraction proposals accepted during sampling regime = 0.022382\n",
      "\t<E> = -2.201445 +/- 0.002882\n",
      "\t<m> = 0.978420 +/- 0.001281\n",
      "\tSimulation finished. Took 10.9956581593 sec.\n",
      "Simulating Ising model:\n",
      "\t20 by 20 lattice\n",
      "\tJ = 0.000000   (+ve means preferable )\n",
      "\th = 3.000000\n",
      "\tTemperature (kT) = 1.000000\n",
      "\t3000 total sweeps, 2000 of them burn sweeps\n",
      "\t\tSampling every 4 sweeps\n",
      "\t\tFraction proposals accepted during burn sweeps = 0.005153\n",
      "\t\tFraction proposals accepted during sampling regime = 0.005190\n",
      "\t<E> = -2.986140 +/- 0.001750\n",
      "\t<m> = 0.995380 +/- 0.000583\n",
      "\tSimulation finished. Took 11.0862588882 sec.\n"
     ]
    }
   ],
   "source": [
    "kT = 1.0\n",
    "# array of h's to loop over\n",
    "h = np.linspace(0.0, 3.0, 5)\n",
    "# pre-allocate arrays to store thermodyanmic quantities\n",
    "E = np.zeros((np.size(h), ))\n",
    "m = np.zeros((np.size(h), ))\n",
    "cv_ovr_k = np.zeros((np.size(h), ))\n",
    "chi = np.zeros((np.size(h), ))\n",
    "\n",
    "for i in range(np.size(h)):\n",
    "    model = IsingModel(20, 20, 0.0, h[i])\n",
    "    energy_samples, magnetization_samples = simulate(model, kT, 3000, 2000, 4)\n",
    "    \n",
    "    # record <E>, <m> at h[i]\n",
    "    E[i] = np.mean(energy_samples)\n",
    "    m[i] = np.mean(magnetization_samples)\n",
    "    # related to fluctuations. multiply by M * N for cv of SYSTEM\n",
    "    cv_ovr_k[i] = (np.mean(energy_samples ** 2) - np.mean(energy_samples) ** 2) / (kT ** 2)\n",
    "    chi[i] = (np.mean(magnetization_samples ** 2) - np.mean(magnetization_samples) ** 2) / kT"
   ]
  },
  {
   "cell_type": "code",
   "execution_count": 17,
   "metadata": {
    "collapsed": false
   },
   "outputs": [
    {
     "data": {
      "image/png": "[encoded data removed]",
      "text/plain": [
       "<matplotlib.figure.Figure at 0x7f8ee0ec8d50>"
      ]
     },
     "metadata": {},
     "output_type": "display_data"
    }
   ],
   "source": [
    "# plot results, compare to analytical model\n",
    "plt.figure()\n",
    "plt.scatter(h, E, label='Simulation')  # plot simulated data\n",
    "plt.plot(h, -h * np.tanh(h / kT), label='Analytical solution')  # plot analytical sol'n\n",
    "plt.xlabel(\"h (in units of $kT$)\")\n",
    "plt.ylabel(r\"$\\langle e \\rangle$\")\n",
    "plt.legend(loc='lower left')\n",
    "plt.show()"
   ]
  },
  {
   "cell_type": "code",
   "execution_count": 18,
   "metadata": {
    "collapsed": false
   },
   "outputs": [
    {
     "data": {
      "image/png": "[encoded data removed]",
      "text/plain": [
       "<matplotlib.figure.Figure at 0x7f8ee015ee50>"
      ]
     },
     "metadata": {},
     "output_type": "display_data"
    }
   ],
   "source": [
    "# plot results, compare to analytical model\n",
    "plt.figure()\n",
    "plt.scatter(h, m, label='Simulation')  # plot simulated data\n",
    "plt.plot(h, np.tanh(h / kT), label='Analytical solution')  # plot analytical sol'n\n",
    "plt.xlabel(\"h (in units of $kT$)\")\n",
    "plt.ylabel(r\"$\\langle m \\rangle$\")\n",
    "plt.legend(loc='lower right')\n",
    "plt.show()"
   ]
  },
  {
   "cell_type": "code",
   "execution_count": 19,
   "metadata": {
    "collapsed": false
   },
   "outputs": [
    {
     "data": {
      "image/png": "[encoded data removed]",
      "text/plain": [
       "<matplotlib.figure.Figure at 0x7f8ee276a410>"
      ]
     },
     "metadata": {},
     "output_type": "display_data"
    }
   ],
   "source": [
    "# plot results, compare to analytical model\n",
    "plt.figure()\n",
    "plt.scatter(h, cv_ovr_k, label='Simulation')  # plot simulated data\n",
    "plt.plot(h, (h / kT) ** 2 * (1.0 - np.tanh(h / kT) ** 2) / (model.M * model.N), label='Analytical solution')  # plot analytical sol'n\n",
    "plt.xlabel(\"h (in units of $kT$)\")\n",
    "plt.ylabel(r\"$c_v$\")\n",
    "plt.legend(loc='upper right')\n",
    "plt.show()"
   ]
  },
  {
   "cell_type": "code",
   "execution_count": 20,
   "metadata": {
    "collapsed": false
   },
   "outputs": [
    {
     "data": {
      "image/png": "[encoded data removed]",
      "text/plain": [
       "<matplotlib.figure.Figure at 0x7f8ee2986f90>"
      ]
     },
     "metadata": {},
     "output_type": "display_data"
    }
   ],
   "source": [
    "# plot results, compare to analytical model\n",
    "plt.figure()\n",
    "plt.scatter(h, chi, label='Simulation')  # plot simulated data\n",
    "plt.plot(h, (1.0 - np.tanh(h / kT) ** 2) / kT / (model.M * model.N), label='Analytical solution')  # plot analytical sol'n\n",
    "plt.xlabel(\"h (in units of $kT$)\")\n",
    "plt.ylabel(r\"$\\chi$\")\n",
    "plt.legend(loc='upper right')\n",
    "plt.show()"
   ]
  },
  {
   "cell_type": "markdown",
   "metadata": {},
   "source": [
    "# Exercise 8.7 and 8.9 together"
   ]
  },
  {
   "cell_type": "markdown",
   "metadata": {},
   "source": [
    "Plot analytical solution to Ising Model in the limit of an infinitely large lattice"
   ]
  },
  {
   "cell_type": "code",
   "execution_count": 21,
   "metadata": {
    "collapsed": true
   },
   "outputs": [],
   "source": [
    "def exact_soln(model, kT):\n",
    "    \"\"\"\n",
    "    Return average energy\n",
    "    \n",
    "    Parameters:\n",
    "        model: an instance of the IsingModel class.\n",
    "        kT: temperature ($k_b T$)\n",
    "    returns dictionary of exact values\n",
    "        e.g:\n",
    "            soln = exact_soln(model, kt)\n",
    "            soln['cv']\n",
    "        returns cv.\n",
    "    \"\"\"  \n",
    "    num_sites = model.M * model.N\n",
    "    J_theirs = model.J / kT\n",
    "    K = 2.0 * np.sinh(2.0 * J_theirs) / np.cosh(2.0 * J_theirs) ** 2\n",
    "    K1 = ellipk(K ** 2)\n",
    "    K_prime = 2.0 * np.tanh(2.0 * J_theirs) ** 2 - 1.0\n",
    "    E1 = ellipe(K ** 2)\n",
    "    \n",
    "    z = np.exp(-2.0 * J_theirs)\n",
    "    \n",
    "    avg_E = -J_theirs / np.tanh(2.0 * J_theirs) * (1.0 + 2.0 / np.pi * K_prime * K1)\n",
    "    cv = 2.0 / np.pi * (J_theirs / np.tanh(2.0 * J_theirs)) ** 2 *\\\n",
    "        (2.0 * K1 - 2.0 * E1 - (1.0 - K_prime) * (np.pi/2.0 + K_prime * K1))\n",
    "    avg_m = (1.0 + z**2)**0.25 * (1.0 - 6.0 * z ** 2 + z ** 4) ** (1.0/8.0) / np.sqrt(1.0-z**2)\n",
    "    \n",
    "    return {'m': avg_m, 'cv': cv, 'e': avg_E}"
   ]
  },
  {
   "cell_type": "markdown",
   "metadata": {},
   "source": [
    "Example of how this function works:"
   ]
  },
  {
   "cell_type": "code",
   "execution_count": 22,
   "metadata": {
    "collapsed": false
   },
   "outputs": [
    {
     "name": "stdout",
     "output_type": "stream",
     "text": [
      "\t20 by 20 lattice\n",
      "\tJ = 1.000000   (+ve means preferable )\n",
      "\th = 0.000000\n"
     ]
    },
    {
     "data": {
      "text/plain": [
       "{'cv': 1.4142776913433117, 'e': -0.7029496109538429, 'm': 0.78475513138392128}"
      ]
     },
     "execution_count": 22,
     "metadata": {},
     "output_type": "execute_result"
    }
   ],
   "source": [
    "model = IsingModel(20, 20, 1.0, 0.0)\n",
    "model.print_params()\n",
    "soln = exact_soln(model, 2.2)\n",
    "soln"
   ]
  },
  {
   "cell_type": "code",
   "execution_count": 23,
   "metadata": {
    "collapsed": false
   },
   "outputs": [
    {
     "data": {
      "text/plain": [
       "-0.7029496109538429"
      ]
     },
     "execution_count": 23,
     "metadata": {},
     "output_type": "execute_result"
    }
   ],
   "source": [
    "soln['e']"
   ]
  },
  {
   "cell_type": "markdown",
   "metadata": {},
   "source": [
    "### Explore parameter space; compare simulation to analytical model"
   ]
  },
  {
   "cell_type": "markdown",
   "metadata": {},
   "source": [
    "When $h=0$, an Ising model simulation is characterized by $M$, $N$, and $J/k_B T$. Equivalently, we can fix $kT$ and vary $J$."
   ]
  },
  {
   "cell_type": "code",
   "execution_count": 24,
   "metadata": {
    "collapsed": true
   },
   "outputs": [],
   "source": [
    "kT = 1.0\n",
    "J = np.linspace(0.01, 0.8)"
   ]
  },
  {
   "cell_type": "markdown",
   "metadata": {},
   "source": [
    "Store analytical solution in these pre-allocated arrays."
   ]
  },
  {
   "cell_type": "code",
   "execution_count": 25,
   "metadata": {
    "collapsed": true
   },
   "outputs": [],
   "source": [
    "cvs = np.zeros((np.size(J), ))\n",
    "avg_es = np.zeros((np.size(J), ))\n",
    "avg_ms = np.zeros((np.size(J), ))"
   ]
  },
  {
   "cell_type": "markdown",
   "metadata": {},
   "source": [
    "Store simulated solutions here"
   ]
  },
  {
   "cell_type": "code",
   "execution_count": 26,
   "metadata": {
    "collapsed": true
   },
   "outputs": [],
   "source": [
    "cvs_sim = np.zeros((np.size(J), ))\n",
    "avg_es_sim = np.zeros((np.size(J), ))\n",
    "avg_ms_sim = np.zeros((np.size(J), ))"
   ]
  },
  {
   "cell_type": "code",
   "execution_count": 27,
   "metadata": {
    "collapsed": false
   },
   "outputs": [
    {
     "name": "stdout",
     "output_type": "stream",
     "text": [
      "Simulating Ising model:\n",
      "\t24 by 24 lattice\n",
      "\tJ = 0.010000   (+ve means preferable )\n",
      "\th = 0.000000\n",
      "\tTemperature (kT) = 1.000000\n",
      "\t7000 total sweeps, 3000 of them burn sweeps\n",
      "\t\tSampling every 10 sweeps\n",
      "\t\tFraction proposals accepted during burn sweeps = 0.985082\n",
      "\t\tFraction proposals accepted during sampling regime = 0.985048\n",
      "\t<E> = -0.000183 +/- 0.000058\n",
      "\t<m> = 0.000295 +/- 0.004264\n",
      "\tSimulation finished. Took 26.8854730129 sec.\n",
      "Simulating Ising model:\n",
      "\t24 by 24 lattice\n",
      "\tJ = 0.026122   (+ve means preferable )\n",
      "\th = 0.000000\n",
      "\tTemperature (kT) = 1.000000\n",
      "\t7000 total sweeps, 3000 of them burn sweeps\n",
      "\t\tSampling every 10 sweeps\n",
      "\t\tFraction proposals accepted during burn sweeps = 0.960974\n",
      "\t\tFraction proposals accepted during sampling regime = 0.960618\n",
      "\t<E> = -0.001381 +/- 0.000149\n",
      "\t<m> = -0.002109 +/- 0.004178\n",
      "\tSimulation finished. Took 26.0055580139 sec.\n",
      "Simulating Ising model:\n",
      "\t24 by 24 lattice\n",
      "\tJ = 0.042245   (+ve means preferable )\n",
      "\th = 0.000000\n",
      "\tTemperature (kT) = 1.000000\n",
      "\t7000 total sweeps, 3000 of them burn sweeps\n",
      "\t\tSampling every 10 sweeps\n",
      "\t\tFraction proposals accepted during burn sweeps = 0.936751\n",
      "\t\tFraction proposals accepted during sampling regime = 0.936434\n",
      "\t<E> = -0.003719 +/- 0.000228\n",
      "\t<m> = -0.000634 +/- 0.004408\n",
      "\tSimulation finished. Took 34.9737138748 sec.\n",
      "Simulating Ising model:\n",
      "\t24 by 24 lattice\n",
      "\tJ = 0.058367   (+ve means preferable )\n",
      "\th = 0.000000\n",
      "\tTemperature (kT) = 1.000000\n",
      "\t7000 total sweeps, 3000 of them burn sweeps\n",
      "\t\tSampling every 10 sweeps\n",
      "\t\tFraction proposals accepted during burn sweeps = 0.912159\n",
      "\t\tFraction proposals accepted during sampling regime = 0.912476\n",
      "\t<E> = -0.006756 +/- 0.000328\n",
      "\t<m> = -0.002049 +/- 0.004557\n",
      "\tSimulation finished. Took 35.149805069 sec.\n",
      "Simulating Ising model:\n",
      "\t24 by 24 lattice\n",
      "\tJ = 0.074490   (+ve means preferable )\n",
      "\th = 0.000000\n",
      "\tTemperature (kT) = 1.000000\n",
      "\t7000 total sweeps, 3000 of them burn sweeps\n",
      "\t\tSampling every 10 sweeps\n",
      "\t\tFraction proposals accepted during burn sweeps = 0.887419\n",
      "\t\tFraction proposals accepted during sampling regime = 0.887910\n",
      "\t<E> = -0.010977 +/- 0.000423\n",
      "\t<m> = 0.002309 +/- 0.004950\n",
      "\tSimulation finished. Took 35.2088198662 sec.\n",
      "Simulating Ising model:\n",
      "\t24 by 24 lattice\n",
      "\tJ = 0.090612   (+ve means preferable )\n",
      "\th = 0.000000\n",
      "\tTemperature (kT) = 1.000000\n",
      "\t7000 total sweeps, 3000 of them burn sweeps\n",
      "\t\tSampling every 10 sweeps\n",
      "\t\tFraction proposals accepted during burn sweeps = 0.863412\n",
      "\t\tFraction proposals accepted during sampling regime = 0.863325\n",
      "\t<E> = -0.016597 +/- 0.000519\n",
      "\t<m> = 0.003264 +/- 0.005113\n",
      "\tSimulation finished. Took 35.1798188686 sec.\n",
      "Simulating Ising model:\n",
      "\t24 by 24 lattice\n",
      "\tJ = 0.106735   (+ve means preferable )\n",
      "\th = 0.000000\n",
      "\tTemperature (kT) = 1.000000\n",
      "\t7000 total sweeps, 3000 of them burn sweeps\n",
      "\t\tSampling every 10 sweeps\n",
      "\t\tFraction proposals accepted during burn sweeps = 0.838973\n",
      "\t\tFraction proposals accepted during sampling regime = 0.838650\n",
      "\t<E> = -0.023298 +/- 0.000647\n",
      "\t<m> = -0.004080 +/- 0.005192\n",
      "\tSimulation finished. Took 35.2942621708 sec.\n",
      "Simulating Ising model:\n",
      "\t24 by 24 lattice\n",
      "\tJ = 0.122857   (+ve means preferable )\n",
      "\th = 0.000000\n",
      "\tTemperature (kT) = 1.000000\n",
      "\t7000 total sweeps, 3000 of them burn sweeps\n",
      "\t\tSampling every 10 sweeps\n",
      "\t\tFraction proposals accepted during burn sweeps = 0.813769\n",
      "\t\tFraction proposals accepted during sampling regime = 0.813362\n",
      "\t<E> = -0.030584 +/- 0.000729\n",
      "\t<m> = -0.003021 +/- 0.004932\n",
      "\tSimulation finished. Took 35.3450169563 sec.\n",
      "Simulating Ising model:\n",
      "\t24 by 24 lattice\n",
      "\tJ = 0.138980   (+ve means preferable )\n",
      "\th = 0.000000\n",
      "\tTemperature (kT) = 1.000000\n",
      "\t7000 total sweeps, 3000 of them burn sweeps\n",
      "\t\tSampling every 10 sweeps\n",
      "\t\tFraction proposals accepted during burn sweeps = 0.789295\n",
      "\t\tFraction proposals accepted during sampling regime = 0.789346\n",
      "\t<E> = -0.039935 +/- 0.000912\n",
      "\t<m> = 0.002934 +/- 0.006047\n",
      "\tSimulation finished. Took 35.4257879257 sec.\n",
      "Simulating Ising model:\n",
      "\t24 by 24 lattice\n",
      "\tJ = 0.155102   (+ve means preferable )\n",
      "\th = 0.000000\n",
      "\tTemperature (kT) = 1.000000\n",
      "\t7000 total sweeps, 3000 of them burn sweeps\n",
      "\t\tSampling every 10 sweeps\n",
      "\t\tFraction proposals accepted during burn sweeps = 0.763644\n",
      "\t\tFraction proposals accepted during sampling regime = 0.763969\n",
      "\t<E> = -0.049953 +/- 0.000910\n",
      "\t<m> = -0.001536 +/- 0.006077\n",
      "\tSimulation finished. Took 35.4322469234 sec.\n",
      "Simulating Ising model:\n",
      "\t24 by 24 lattice\n",
      "\tJ = 0.171224   (+ve means preferable )\n",
      "\th = 0.000000\n",
      "\tTemperature (kT) = 1.000000\n",
      "\t7000 total sweeps, 3000 of them burn sweeps\n",
      "\t\tSampling every 10 sweeps\n",
      "\t\tFraction proposals accepted during burn sweeps = 0.738987\n",
      "\t\tFraction proposals accepted during sampling regime = 0.738220\n",
      "\t<E> = -0.061626 +/- 0.000997\n",
      "\t<m> = -0.004514 +/- 0.006253\n",
      "\tSimulation finished. Took 35.3428740501 sec.\n",
      "Simulating Ising model:\n",
      "\t24 by 24 lattice\n",
      "\tJ = 0.187347   (+ve means preferable )\n",
      "\th = 0.000000\n",
      "\tTemperature (kT) = 1.000000\n",
      "\t7000 total sweeps, 3000 of them burn sweeps\n",
      "\t\tSampling every 10 sweeps\n",
      "\t\tFraction proposals accepted during burn sweeps = 0.713087\n",
      "\t\tFraction proposals accepted during sampling regime = 0.713250\n",
      "\t<E> = -0.074041 +/- 0.001179\n",
      "\t<m> = 0.001302 +/- 0.006313\n",
      "\tSimulation finished. Took 35.4189300537 sec.\n",
      "Simulating Ising model:\n",
      "\t24 by 24 lattice\n",
      "\tJ = 0.203469   (+ve means preferable )\n",
      "\th = 0.000000\n",
      "\tTemperature (kT) = 1.000000\n",
      "\t7000 total sweeps, 3000 of them burn sweeps\n",
      "\t\tSampling every 10 sweeps\n",
      "\t\tFraction proposals accepted during burn sweeps = 0.686584\n",
      "\t\tFraction proposals accepted during sampling regime = 0.686817\n",
      "\t<E> = -0.089488 +/- 0.001280\n",
      "\t<m> = 0.003168 +/- 0.007064\n",
      "\tSimulation finished. Took 35.6282119751 sec.\n",
      "Simulating Ising model:\n",
      "\t24 by 24 lattice\n",
      "\tJ = 0.219592   (+ve means preferable )\n",
      "\th = 0.000000\n",
      "\tTemperature (kT) = 1.000000\n",
      "\t7000 total sweeps, 3000 of them burn sweeps\n",
      "\t\tSampling every 10 sweeps\n",
      "\t\tFraction proposals accepted during burn sweeps = 0.659368\n",
      "\t\tFraction proposals accepted during sampling regime = 0.660836\n",
      "\t<E> = -0.104954 +/- 0.001405\n",
      "\t<m> = 0.000677 +/- 0.007670\n",
      "\tSimulation finished. Took 35.6793830395 sec.\n",
      "Simulating Ising model:\n",
      "\t24 by 24 lattice\n",
      "\tJ = 0.235714   (+ve means preferable )\n",
      "\th = 0.000000\n",
      "\tTemperature (kT) = 1.000000\n",
      "\t7000 total sweeps, 3000 of them burn sweeps\n",
      "\t\tSampling every 10 sweeps\n",
      "\t\tFraction proposals accepted during burn sweeps = 0.634008\n",
      "\t\tFraction proposals accepted during sampling regime = 0.633906\n",
      "\t<E> = -0.121557 +/- 0.001611\n",
      "\t<m> = 0.001241 +/- 0.007985\n",
      "\tSimulation finished. Took 31.9926559925 sec.\n",
      "Simulating Ising model:\n",
      "\t24 by 24 lattice\n",
      "\tJ = 0.251837   (+ve means preferable )\n",
      "\th = 0.000000\n",
      "\tTemperature (kT) = 1.000000\n",
      "\t7000 total sweeps, 3000 of them burn sweeps\n",
      "\t\tSampling every 10 sweeps\n",
      "\t\tFraction proposals accepted during burn sweeps = 0.607047\n",
      "\t\tFraction proposals accepted during sampling regime = 0.605488\n",
      "\t<E> = -0.141711 +/- 0.001539\n",
      "\t<m> = -0.007352 +/- 0.007944\n",
      "\tSimulation finished. Took 30.0467078686 sec.\n",
      "Simulating Ising model:\n",
      "\t24 by 24 lattice\n",
      "\tJ = 0.267959   (+ve means preferable )\n",
      "\th = 0.000000\n",
      "\tTemperature (kT) = 1.000000\n",
      "\t7000 total sweeps, 3000 of them burn sweeps\n",
      "\t\tSampling every 10 sweeps\n",
      "\t\tFraction proposals accepted during burn sweeps = 0.579002\n",
      "\t\tFraction proposals accepted during sampling regime = 0.578862\n",
      "\t<E> = -0.162725 +/- 0.001685\n",
      "\t<m> = 0.004106 +/- 0.009088\n",
      "\tSimulation finished. Took 32.9923009872 sec.\n",
      "Simulating Ising model:\n",
      "\t24 by 24 lattice\n",
      "\tJ = 0.284082   (+ve means preferable )\n",
      "\th = 0.000000\n",
      "\tTemperature (kT) = 1.000000\n",
      "\t7000 total sweeps, 3000 of them burn sweeps\n",
      "\t\tSampling every 10 sweeps\n",
      "\t\tFraction proposals accepted during burn sweeps = 0.549985\n",
      "\t\tFraction proposals accepted during sampling regime = 0.550617\n",
      "\t<E> = -0.186710 +/- 0.001905\n",
      "\t<m> = -0.000243 +/- 0.009665\n",
      "\tSimulation finished. Took 29.1815109253 sec.\n",
      "Simulating Ising model:\n",
      "\t24 by 24 lattice\n",
      "\tJ = 0.300204   (+ve means preferable )\n",
      "\th = 0.000000\n",
      "\tTemperature (kT) = 1.000000\n",
      "\t7000 total sweeps, 3000 of them burn sweeps\n",
      "\t\tSampling every 10 sweeps\n",
      "\t\tFraction proposals accepted during burn sweeps = 0.521233\n",
      "\t\tFraction proposals accepted during sampling regime = 0.522471\n",
      "\t<E> = -0.212577 +/- 0.002103\n",
      "\t<m> = -0.005825 +/- 0.010674\n",
      "\tSimulation finished. Took 24.1588242054 sec.\n",
      "Simulating Ising model:\n",
      "\t24 by 24 lattice\n",
      "\tJ = 0.316327   (+ve means preferable )\n",
      "\th = 0.000000\n",
      "\tTemperature (kT) = 1.000000\n",
      "\t7000 total sweeps, 3000 of them burn sweeps\n",
      "\t\tSampling every 10 sweeps\n",
      "\t\tFraction proposals accepted during burn sweeps = 0.493320\n",
      "\t\tFraction proposals accepted during sampling regime = 0.492067\n",
      "\t<E> = -0.239936 +/- 0.002482\n",
      "\t<m> = 0.010373 +/- 0.011720\n",
      "\tSimulation finished. Took 22.5794479847 sec.\n",
      "Simulating Ising model:\n",
      "\t24 by 24 lattice\n",
      "\tJ = 0.332449   (+ve means preferable )\n",
      "\th = 0.000000\n",
      "\tTemperature (kT) = 1.000000\n",
      "\t7000 total sweeps, 3000 of them burn sweeps\n",
      "\t\tSampling every 10 sweeps\n",
      "\t\tFraction proposals accepted during burn sweeps = 0.464092\n",
      "\t\tFraction proposals accepted during sampling regime = 0.462605\n",
      "\t<E> = -0.273203 +/- 0.002600\n",
      "\t<m> = 0.008125 +/- 0.014581\n",
      "\tSimulation finished. Took 26.8091981411 sec.\n",
      "Simulating Ising model:\n",
      "\t24 by 24 lattice\n",
      "\tJ = 0.348571   (+ve means preferable )\n",
      "\th = 0.000000\n",
      "\tTemperature (kT) = 1.000000\n",
      "\t7000 total sweeps, 3000 of them burn sweeps\n",
      "\t\tSampling every 10 sweeps\n",
      "\t\tFraction proposals accepted during burn sweeps = 0.434126\n",
      "\t\tFraction proposals accepted during sampling regime = 0.432287\n",
      "\t<E> = -0.303324 +/- 0.002898\n",
      "\t<m> = -0.035825 +/- 0.014839\n",
      "\tSimulation finished. Took 32.4453659058 sec.\n",
      "Simulating Ising model:\n",
      "\t24 by 24 lattice\n",
      "\tJ = 0.364694   (+ve means preferable )\n",
      "\th = 0.000000\n",
      "\tTemperature (kT) = 1.000000\n",
      "\t7000 total sweeps, 3000 of them burn sweeps\n",
      "\t\tSampling every 10 sweeps\n",
      "\t\tFraction proposals accepted during burn sweeps = 0.399204\n",
      "\t\tFraction proposals accepted during sampling regime = 0.398525\n",
      "\t<E> = -0.342420 +/- 0.003156\n",
      "\t<m> = 0.011259 +/- 0.018308\n",
      "\tSimulation finished. Took 32.9885690212 sec.\n",
      "Simulating Ising model:\n",
      "\t24 by 24 lattice\n",
      "\tJ = 0.380816   (+ve means preferable )\n",
      "\th = 0.000000\n",
      "\tTemperature (kT) = 1.000000\n",
      "\t7000 total sweeps, 3000 of them burn sweeps\n",
      "\t\tSampling every 10 sweeps\n",
      "\t\tFraction proposals accepted during burn sweeps = 0.366789\n",
      "\t\tFraction proposals accepted during sampling regime = 0.365217\n",
      "\t<E> = -0.383990 +/- 0.003320\n",
      "\t<m> = 0.028759 +/- 0.021584\n",
      "\tSimulation finished. Took 37.0623738766 sec.\n",
      "Simulating Ising model:\n",
      "\t24 by 24 lattice\n",
      "\tJ = 0.396939   (+ve means preferable )\n",
      "\th = 0.000000\n",
      "\tTemperature (kT) = 1.000000\n",
      "\t7000 total sweeps, 3000 of them burn sweeps\n",
      "\t\tSampling every 10 sweeps\n",
      "\t\tFraction proposals accepted during burn sweeps = 0.328279\n",
      "\t\tFraction proposals accepted during sampling regime = 0.333078\n",
      "\t<E> = -0.429280 +/- 0.003732\n",
      "\t<m> = -0.074922 +/- 0.026707\n",
      "\tSimulation finished. Took 37.917703867 sec.\n",
      "Simulating Ising model:\n",
      "\t24 by 24 lattice\n",
      "\tJ = 0.413061   (+ve means preferable )\n",
      "\th = 0.000000\n",
      "\tTemperature (kT) = 1.000000\n",
      "\t7000 total sweeps, 3000 of them burn sweeps\n",
      "\t\tSampling every 10 sweeps\n",
      "\t\tFraction proposals accepted during burn sweeps = 0.296337\n",
      "\t\tFraction proposals accepted during sampling regime = 0.293644\n",
      "\t<E> = -0.485419 +/- 0.004236\n",
      "\t<m> = 0.057378 +/- 0.034419\n",
      "\tSimulation finished. Took 37.4019610882 sec.\n",
      "Simulating Ising model:\n",
      "\t24 by 24 lattice\n",
      "\tJ = 0.429184   (+ve means preferable )\n",
      "\th = 0.000000\n",
      "\tTemperature (kT) = 1.000000\n",
      "\t7000 total sweeps, 3000 of them burn sweeps\n",
      "\t\tSampling every 10 sweeps\n",
      "\t\tFraction proposals accepted during burn sweeps = 0.233734\n",
      "\t\tFraction proposals accepted during sampling regime = 0.230568\n",
      "\t<E> = -0.572342 +/- 0.005215\n",
      "\t<m> = -0.078099 +/- 0.055989\n",
      "\tSimulation finished. Took 37.3161380291 sec.\n",
      "Simulating Ising model:\n",
      "\t24 by 24 lattice\n",
      "\tJ = 0.445306   (+ve means preferable )\n",
      "\th = 0.000000\n",
      "\tTemperature (kT) = 1.000000\n",
      "\t7000 total sweeps, 3000 of them burn sweeps\n",
      "\t\tSampling every 10 sweeps\n",
      "\t\tFraction proposals accepted during burn sweeps = 0.181449\n",
      "\t\tFraction proposals accepted during sampling regime = 0.165842\n",
      "\t<E> = -0.668871 +/- 0.004434\n",
      "\t<m> = -0.770451 +/- 0.008960\n",
      "\tSimulation finished. Took 36.6339850426 sec.\n",
      "Simulating Ising model:\n",
      "\t24 by 24 lattice\n",
      "\tJ = 0.461429   (+ve means preferable )\n",
      "\th = 0.000000\n",
      "\tTemperature (kT) = 1.000000\n",
      "\t7000 total sweeps, 3000 of them burn sweeps\n",
      "\t\tSampling every 10 sweeps\n",
      "\t\tFraction proposals accepted during burn sweeps = 0.137343\n",
      "\t\tFraction proposals accepted during sampling regime = 0.133647\n",
      "\t<E> = -0.734184 +/- 0.004424\n",
      "\t<m> = 0.823932 +/- 0.008124\n",
      "\tSimulation finished. Took 37.1369731426 sec.\n",
      "Simulating Ising model:\n",
      "\t24 by 24 lattice\n",
      "\tJ = 0.477551   (+ve means preferable )\n",
      "\th = 0.000000\n",
      "\tTemperature (kT) = 1.000000\n",
      "\t7000 total sweeps, 3000 of them burn sweeps\n",
      "\t\tSampling every 10 sweeps\n",
      "\t\tFraction proposals accepted during burn sweeps = 0.113102\n",
      "\t\tFraction proposals accepted during sampling regime = 0.104629\n",
      "\t<E> = -0.796548 +/- 0.003699\n",
      "\t<m> = -0.874115 +/- 0.004736\n",
      "\tSimulation finished. Took 37.1866159439 sec.\n",
      "Simulating Ising model:\n",
      "\t24 by 24 lattice\n",
      "\tJ = 0.493673   (+ve means preferable )\n",
      "\th = 0.000000\n",
      "\tTemperature (kT) = 1.000000\n",
      "\t7000 total sweeps, 3000 of them burn sweeps\n",
      "\t\tSampling every 10 sweeps\n",
      "\t\tFraction proposals accepted during burn sweeps = 0.090118\n",
      "\t\tFraction proposals accepted during sampling regime = 0.087914\n",
      "\t<E> = -0.848527 +/- 0.003422\n",
      "\t<m> = 0.899366 +/- 0.003551\n",
      "\tSimulation finished. Took 37.0187978745 sec.\n",
      "Simulating Ising model:\n",
      "\t24 by 24 lattice\n",
      "\tJ = 0.509796   (+ve means preferable )\n",
      "\th = 0.000000\n",
      "\tTemperature (kT) = 1.000000\n",
      "\t7000 total sweeps, 3000 of them burn sweeps\n",
      "\t\tSampling every 10 sweeps\n",
      "\t\tFraction proposals accepted during burn sweeps = 0.075960\n",
      "\t\tFraction proposals accepted during sampling regime = 0.069270\n",
      "\t<E> = -0.904613 +/- 0.003080\n",
      "\t<m> = 0.924505 +/- 0.002759\n",
      "\tSimulation finished. Took 37.0243210793 sec.\n",
      "Simulating Ising model:\n",
      "\t24 by 24 lattice\n",
      "\tJ = 0.525918   (+ve means preferable )\n",
      "\th = 0.000000\n",
      "\tTemperature (kT) = 1.000000\n",
      "\t7000 total sweeps, 3000 of them burn sweeps\n",
      "\t\tSampling every 10 sweeps\n",
      "\t\tFraction proposals accepted during burn sweeps = 0.063725\n",
      "\t\tFraction proposals accepted during sampling regime = 0.058883\n",
      "\t<E> = -0.947712 +/- 0.003138\n",
      "\t<m> = 0.935365 +/- 0.002584\n",
      "\tSimulation finished. Took 37.097520113 sec.\n",
      "Simulating Ising model:\n",
      "\t24 by 24 lattice\n",
      "\tJ = 0.542041   (+ve means preferable )\n",
      "\th = 0.000000\n",
      "\tTemperature (kT) = 1.000000\n",
      "\t7000 total sweeps, 3000 of them burn sweeps\n",
      "\t\tSampling every 10 sweeps\n",
      "\t\tFraction proposals accepted during burn sweeps = 0.052122\n",
      "\t\tFraction proposals accepted during sampling regime = 0.047570\n",
      "\t<E> = -0.998804 +/- 0.002637\n",
      "\t<m> = 0.950174 +/- 0.002025\n",
      "\tSimulation finished. Took 37.2304561138 sec.\n",
      "Simulating Ising model:\n",
      "\t24 by 24 lattice\n",
      "\tJ = 0.558163   (+ve means preferable )\n",
      "\th = 0.000000\n",
      "\tTemperature (kT) = 1.000000\n",
      "\t7000 total sweeps, 3000 of them burn sweeps\n",
      "\t\tSampling every 10 sweeps\n",
      "\t\tFraction proposals accepted during burn sweeps = 0.043307\n",
      "\t\tFraction proposals accepted during sampling regime = 0.039907\n",
      "\t<E> = -1.040723 +/- 0.002753\n",
      "\t<m> = -0.958802 +/- 0.001832\n",
      "\tSimulation finished. Took 37.2567398548 sec.\n",
      "Simulating Ising model:\n",
      "\t24 by 24 lattice\n",
      "\tJ = 0.574286   (+ve means preferable )\n",
      "\th = 0.000000\n",
      "\tTemperature (kT) = 1.000000\n",
      "\t7000 total sweeps, 3000 of them burn sweeps\n",
      "\t\tSampling every 10 sweeps\n",
      "\t\tFraction proposals accepted during burn sweeps = 0.042280\n",
      "\t\tFraction proposals accepted during sampling regime = 0.033796\n",
      "\t<E> = -1.082010 +/- 0.002437\n",
      "\t<m> = 0.965156 +/- 0.001551\n",
      "\tSimulation finished. Took 32.7042148113 sec.\n",
      "Simulating Ising model:\n",
      "\t24 by 24 lattice\n",
      "\tJ = 0.590408   (+ve means preferable )\n",
      "\th = 0.000000\n",
      "\tTemperature (kT) = 1.000000\n",
      "\t7000 total sweeps, 3000 of them burn sweeps\n",
      "\t\tSampling every 10 sweeps\n",
      "\t\tFraction proposals accepted during burn sweeps = 0.030587\n",
      "\t\tFraction proposals accepted during sampling regime = 0.028492\n",
      "\t<E> = -1.122237 +/- 0.002179\n",
      "\t<m> = -0.970877 +/- 0.001276\n",
      "\tSimulation finished. Took 30.3476259708 sec.\n",
      "Simulating Ising model:\n",
      "\t24 by 24 lattice\n",
      "\tJ = 0.606531   (+ve means preferable )\n",
      "\th = 0.000000\n",
      "\tTemperature (kT) = 1.000000\n",
      "\t7000 total sweeps, 3000 of them burn sweeps\n",
      "\t\tSampling every 10 sweeps\n",
      "\t\tFraction proposals accepted during burn sweeps = 0.031069\n",
      "\t\tFraction proposals accepted during sampling regime = 0.024153\n",
      "\t<E> = -1.159853 +/- 0.002189\n",
      "\t<m> = -0.974844 +/- 0.001144\n",
      "\tSimulation finished. Took 37.2795369625 sec.\n",
      "Simulating Ising model:\n",
      "\t24 by 24 lattice\n",
      "\tJ = 0.622653   (+ve means preferable )\n",
      "\th = 0.000000\n",
      "\tTemperature (kT) = 1.000000\n",
      "\t7000 total sweeps, 3000 of them burn sweeps\n",
      "\t\tSampling every 10 sweeps\n",
      "\t\tFraction proposals accepted during burn sweeps = 0.021633\n",
      "\t\tFraction proposals accepted during sampling regime = 0.020516\n",
      "\t<E> = -1.200153 +/- 0.002030\n",
      "\t<m> = -0.979236 +/- 0.001064\n",
      "\tSimulation finished. Took 37.2885651588 sec.\n",
      "Simulating Ising model:\n",
      "\t24 by 24 lattice\n",
      "\tJ = 0.638776   (+ve means preferable )\n",
      "\th = 0.000000\n",
      "\tTemperature (kT) = 1.000000\n",
      "\t7000 total sweeps, 3000 of them burn sweeps\n",
      "\t\tSampling every 10 sweeps\n",
      "\t\tFraction proposals accepted during burn sweeps = 0.034272\n",
      "\t\tFraction proposals accepted during sampling regime = 0.017310\n",
      "\t<E> = -1.237184 +/- 0.002044\n",
      "\t<m> = -0.982118 +/- 0.001032\n",
      "\tSimulation finished. Took 37.2259430885 sec.\n",
      "Simulating Ising model:\n",
      "\t24 by 24 lattice\n",
      "\tJ = 0.654898   (+ve means preferable )\n",
      "\th = 0.000000\n",
      "\tTemperature (kT) = 1.000000\n",
      "\t7000 total sweeps, 3000 of them burn sweeps\n",
      "\t\tSampling every 10 sweeps\n",
      "\t\tFraction proposals accepted during burn sweeps = 0.016981\n",
      "\t\tFraction proposals accepted during sampling regime = 0.014937\n",
      "\t<E> = -1.273970 +/- 0.001804\n",
      "\t<m> = 0.984844 +/- 0.000824\n",
      "\tSimulation finished. Took 37.182790041 sec.\n",
      "Simulating Ising model:\n",
      "\t24 by 24 lattice\n",
      "\tJ = 0.671020   (+ve means preferable )\n",
      "\th = 0.000000\n",
      "\tTemperature (kT) = 1.000000\n",
      "\t7000 total sweeps, 3000 of them burn sweeps\n",
      "\t\tSampling every 10 sweeps\n",
      "\t\tFraction proposals accepted during burn sweeps = 0.015109\n",
      "\t\tFraction proposals accepted during sampling regime = 0.012753\n",
      "\t<E> = -1.311530 +/- 0.001760\n",
      "\t<m> = -0.987483 +/- 0.000787\n",
      "\tSimulation finished. Took 37.1761710644 sec.\n",
      "Simulating Ising model:\n",
      "\t24 by 24 lattice\n",
      "\tJ = 0.687143   (+ve means preferable )\n",
      "\th = 0.000000\n",
      "\tTemperature (kT) = 1.000000\n",
      "\t7000 total sweeps, 3000 of them burn sweeps\n",
      "\t\tSampling every 10 sweeps\n",
      "\t\tFraction proposals accepted during burn sweeps = 0.012236\n",
      "\t\tFraction proposals accepted during sampling regime = 0.011034\n",
      "\t<E> = -1.345619 +/- 0.001686\n",
      "\t<m> = -0.988490 +/- 0.000762\n",
      "\tSimulation finished. Took 37.2568011284 sec.\n",
      "Simulating Ising model:\n",
      "\t24 by 24 lattice\n",
      "\tJ = 0.703265   (+ve means preferable )\n",
      "\th = 0.000000\n",
      "\tTemperature (kT) = 1.000000\n",
      "\t7000 total sweeps, 3000 of them burn sweeps\n",
      "\t\tSampling every 10 sweeps\n",
      "\t\tFraction proposals accepted during burn sweeps = 0.018523\n",
      "\t\tFraction proposals accepted during sampling regime = 0.009511\n",
      "\t<E> = -1.381404 +/- 0.001673\n",
      "\t<m> = 0.990182 +/- 0.000708\n",
      "\tSimulation finished. Took 37.5289170742 sec.\n",
      "Simulating Ising model:\n",
      "\t24 by 24 lattice\n",
      "\tJ = 0.719388   (+ve means preferable )\n",
      "\th = 0.000000\n",
      "\tTemperature (kT) = 1.000000\n",
      "\t7000 total sweeps, 3000 of them burn sweeps\n",
      "\t\tSampling every 10 sweeps\n",
      "\t\tFraction proposals accepted during burn sweeps = 0.009117\n",
      "\t\tFraction proposals accepted during sampling regime = 0.008354\n",
      "\t<E> = -1.416145 +/- 0.001627\n",
      "\t<m> = 0.991450 +/- 0.000655\n",
      "\tSimulation finished. Took 37.5666739941 sec.\n",
      "Simulating Ising model:\n",
      "\t24 by 24 lattice\n",
      "\tJ = 0.735510   (+ve means preferable )\n",
      "\th = 0.000000\n",
      "\tTemperature (kT) = 1.000000\n",
      "\t7000 total sweeps, 3000 of them burn sweeps\n",
      "\t\tSampling every 10 sweeps\n",
      "\t\tFraction proposals accepted during burn sweeps = 0.028644\n",
      "\t\tFraction proposals accepted during sampling regime = 0.007135\n",
      "\t<E> = -1.451126 +/- 0.001486\n",
      "\t<m> = 0.992743 +/- 0.000583\n",
      "\tSimulation finished. Took 37.6182549 sec.\n",
      "Simulating Ising model:\n",
      "\t24 by 24 lattice\n",
      "\tJ = 0.751633   (+ve means preferable )\n",
      "\th = 0.000000\n",
      "\tTemperature (kT) = 1.000000\n",
      "\t7000 total sweeps, 3000 of them burn sweeps\n",
      "\t\tSampling every 10 sweeps\n",
      "\t\tFraction proposals accepted during burn sweeps = 0.015874\n",
      "\t\tFraction proposals accepted during sampling regime = 0.006097\n",
      "\t<E> = -1.486367 +/- 0.001379\n",
      "\t<m> = 0.994002 +/- 0.000515\n",
      "\tSimulation finished. Took 37.4880900383 sec.\n",
      "Simulating Ising model:\n",
      "\t24 by 24 lattice\n",
      "\tJ = 0.767755   (+ve means preferable )\n",
      "\th = 0.000000\n",
      "\tTemperature (kT) = 1.000000\n",
      "\t7000 total sweeps, 3000 of them burn sweeps\n",
      "\t\tSampling every 10 sweeps\n",
      "\t\tFraction proposals accepted during burn sweeps = 0.006237\n",
      "\t\tFraction proposals accepted during sampling regime = 0.005276\n",
      "\t<E> = -1.518995 +/- 0.001282\n",
      "\t<m> = 0.994262 +/- 0.000469\n",
      "\tSimulation finished. Took 37.5401530266 sec.\n",
      "Simulating Ising model:\n",
      "\t24 by 24 lattice\n",
      "\tJ = 0.783878   (+ve means preferable )\n",
      "\th = 0.000000\n",
      "\tTemperature (kT) = 1.000000\n",
      "\t7000 total sweeps, 3000 of them burn sweeps\n",
      "\t\tSampling every 10 sweeps\n",
      "\t\tFraction proposals accepted during burn sweeps = 0.006018\n",
      "\t\tFraction proposals accepted during sampling regime = 0.004648\n",
      "\t<E> = -1.552976 +/- 0.001300\n",
      "\t<m> = -0.995000 +/- 0.000462\n",
      "\tSimulation finished. Took 32.3083651066 sec.\n",
      "Simulating Ising model:\n",
      "\t24 by 24 lattice\n",
      "\tJ = 0.800000   (+ve means preferable )\n",
      "\th = 0.000000\n",
      "\tTemperature (kT) = 1.000000\n",
      "\t7000 total sweeps, 3000 of them burn sweeps\n",
      "\t\tSampling every 10 sweeps\n",
      "\t\tFraction proposals accepted during burn sweeps = 0.005736\n",
      "\t\tFraction proposals accepted during sampling regime = 0.003977\n",
      "\t<E> = -1.588056 +/- 0.001174\n",
      "\t<m> = -0.996033 +/- 0.000414\n",
      "\tSimulation finished. Took 34.4844589233 sec.\n"
     ]
    },
    {
     "name": "stderr",
     "output_type": "stream",
     "text": [
      "/usr/local/lib/python2.7/dist-packages/ipykernel/__main__.py:25: RuntimeWarning: invalid value encountered in double_scalars\n"
     ]
    }
   ],
   "source": [
    "for i in range(np.size(J)):\n",
    "    # construct model with this J.\n",
    "    model = IsingModel(24, 24, J[i], 0.0)\n",
    "    \n",
    "    # get and store analytical sol'n\n",
    "    soln = exact_soln(model, kT)\n",
    "    \n",
    "    cvs[i] = soln['cv']\n",
    "    avg_es[i] = soln['e']\n",
    "    avg_ms[i] = soln['m']\n",
    "    \n",
    "    # Simulate, record results\n",
    "    energy_samples, magnetization_samples = simulate(model, kT, 7000, 3000, 10)\n",
    "    \n",
    "    avg_es_sim[i] = np.mean(energy_samples)\n",
    "    avg_ms_sim[i] = np.mean(magnetization_samples)\n",
    "    cvs_sim[i] = (np.mean(energy_samples ** 2) - np.mean(energy_samples) ** 2) / (\n",
    "        kT ** 2) * model.M * model.N"
   ]
  },
  {
   "cell_type": "markdown",
   "metadata": {},
   "source": [
    "Plot results. Points: simulation, Lines: analytical soln"
   ]
  },
  {
   "cell_type": "code",
   "execution_count": 29,
   "metadata": {
    "collapsed": false
   },
   "outputs": [
    {
     "data": {
      "image/png": "[encoded data removed]",
      "text/plain": [
       "<matplotlib.figure.Figure at 0x7f8ee4b7a610>"
      ]
     },
     "metadata": {},
     "output_type": "display_data"
    },
    {
     "data": {
      "image/png": "[encoded data removed]",
      "text/plain": [
       "<matplotlib.figure.Figure at 0x7f8ee27850d0>"
      ]
     },
     "metadata": {},
     "output_type": "display_data"
    },
    {
     "data": {
      "image/png": "[encoded data removed]",
      "text/plain": [
       "<matplotlib.figure.Figure at 0x7f8ee2a7ff90>"
      ]
     },
     "metadata": {},
     "output_type": "display_data"
    }
   ],
   "source": [
    "critical_J = kT * np.log(1.0 + np.sqrt(2.0))/2.0\n",
    "\n",
    "plt.figure()\n",
    "plt.plot(J, avg_es)\n",
    "plt.scatter(J, avg_es_sim)\n",
    "plt.xlabel('J')\n",
    "plt.ylabel(r'$\\langle e \\rangle$')\n",
    "plt.savefig('avgE.png', format='png', dpi=200)\n",
    "plt.show()\n",
    "\n",
    "plt.figure()\n",
    "plt.plot(J, avg_ms, color='b')\n",
    "plt.plot(J, -avg_ms, color='b')\n",
    "plt.plot([np.min(J), critical_J], [0.0, 0.0], color='b')\n",
    "plt.scatter(J, avg_ms_sim)\n",
    "plt.xlabel('J')\n",
    "plt.ylabel(r'$\\langle m \\rangle$')\n",
    "plt.show()\n",
    "\n",
    "plt.figure()\n",
    "plt.plot(J, cvs)\n",
    "plt.scatter(J, cvs_sim)\n",
    "plt.xlabel('J')\n",
    "plt.ylabel(r'$c_v$')\n",
    "plt.show()"
   ]
  },
  {
   "cell_type": "code",
   "execution_count": null,
   "metadata": {
    "collapsed": true
   },
   "outputs": [],
   "source": []
  }
 ],
 "metadata": {
  "kernelspec": {
   "display_name": "Python 2",
   "language": "python",
   "name": "python2"
  },
  "language_info": {
   "codemirror_mode": {
    "name": "ipython",
    "version": 2
   },
   "file_extension": ".py",
   "mimetype": "text/x-python",
   "name": "python",
   "nbconvert_exporter": "python",
   "pygments_lexer": "ipython2",
   "version": "2.7.6"
  }
 },
 "nbformat": 4,
 "nbformat_minor": 0
}
